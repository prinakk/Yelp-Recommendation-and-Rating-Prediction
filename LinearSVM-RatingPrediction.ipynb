{
  "nbformat": 4,
  "nbformat_minor": 0,
  "metadata": {
    "kernelspec": {
      "display_name": "Python 3",
      "language": "python",
      "name": "python3"
    },
    "language_info": {
      "codemirror_mode": {
        "name": "ipython",
        "version": 3
      },
      "file_extension": ".py",
      "mimetype": "text/x-python",
      "name": "python",
      "nbconvert_exporter": "python",
      "pygments_lexer": "ipython3",
      "version": "3.6.3"
    },
    "colab": {
      "name": "Linear_Support_Vector_Machine_Final_Classifier.ipynb",
      "provenance": [],
      "collapsed_sections": [
        "ocorSqKPVPEE"
      ],
      "toc_visible": true
    },
    "widgets": {
      "application/vnd.jupyter.widget-state+json": {
        "35677fe66c8f40ff9e14543c204baa79": {
          "model_module": "@jupyter-widgets/controls",
          "model_name": "HBoxModel",
          "state": {
            "_view_name": "HBoxView",
            "_dom_classes": [],
            "_model_name": "HBoxModel",
            "_view_module": "@jupyter-widgets/controls",
            "_model_module_version": "1.5.0",
            "_view_count": null,
            "_view_module_version": "1.5.0",
            "box_style": "",
            "layout": "IPY_MODEL_665e7ede656d4b2bad984f41b04eb910",
            "_model_module": "@jupyter-widgets/controls",
            "children": [
              "IPY_MODEL_564cda34840845d79398e641d842b6c3",
              "IPY_MODEL_c4c541831f3d483cb966e19f43f89f27"
            ]
          }
        },
        "665e7ede656d4b2bad984f41b04eb910": {
          "model_module": "@jupyter-widgets/base",
          "model_name": "LayoutModel",
          "state": {
            "_view_name": "LayoutView",
            "grid_template_rows": null,
            "right": null,
            "justify_content": null,
            "_view_module": "@jupyter-widgets/base",
            "overflow": null,
            "_model_module_version": "1.2.0",
            "_view_count": null,
            "flex_flow": null,
            "width": null,
            "min_width": null,
            "border": null,
            "align_items": null,
            "bottom": null,
            "_model_module": "@jupyter-widgets/base",
            "top": null,
            "grid_column": null,
            "overflow_y": null,
            "overflow_x": null,
            "grid_auto_flow": null,
            "grid_area": null,
            "grid_template_columns": null,
            "flex": null,
            "_model_name": "LayoutModel",
            "justify_items": null,
            "grid_row": null,
            "max_height": null,
            "align_content": null,
            "visibility": null,
            "align_self": null,
            "height": null,
            "min_height": null,
            "padding": null,
            "grid_auto_rows": null,
            "grid_gap": null,
            "max_width": null,
            "order": null,
            "_view_module_version": "1.2.0",
            "grid_template_areas": null,
            "object_position": null,
            "object_fit": null,
            "grid_auto_columns": null,
            "margin": null,
            "display": null,
            "left": null
          }
        },
        "564cda34840845d79398e641d842b6c3": {
          "model_module": "@jupyter-widgets/controls",
          "model_name": "FloatProgressModel",
          "state": {
            "_view_name": "ProgressView",
            "style": "IPY_MODEL_d362756671494b08bf2e5a2514ff8369",
            "_dom_classes": [],
            "description": "100%",
            "_model_name": "FloatProgressModel",
            "bar_style": "danger",
            "max": 154738,
            "_view_module": "@jupyter-widgets/controls",
            "_model_module_version": "1.5.0",
            "value": 154737,
            "_view_count": null,
            "_view_module_version": "1.5.0",
            "orientation": "horizontal",
            "min": 0,
            "description_tooltip": null,
            "_model_module": "@jupyter-widgets/controls",
            "layout": "IPY_MODEL_a9ac5a2c45ed4f189df6350dc7505caa"
          }
        },
        "c4c541831f3d483cb966e19f43f89f27": {
          "model_module": "@jupyter-widgets/controls",
          "model_name": "HTMLModel",
          "state": {
            "_view_name": "HTMLView",
            "style": "IPY_MODEL_9c8902ca6d2246e1befcea6628b4a178",
            "_dom_classes": [],
            "description": "",
            "_model_name": "HTMLModel",
            "placeholder": "​",
            "_view_module": "@jupyter-widgets/controls",
            "_model_module_version": "1.5.0",
            "value": " 154737/154738 [01:03&lt;00:00, 2424.20it/s]",
            "_view_count": null,
            "_view_module_version": "1.5.0",
            "description_tooltip": null,
            "_model_module": "@jupyter-widgets/controls",
            "layout": "IPY_MODEL_fe08ec2a7e004345bfcb3076c5211aa2"
          }
        },
        "d362756671494b08bf2e5a2514ff8369": {
          "model_module": "@jupyter-widgets/controls",
          "model_name": "ProgressStyleModel",
          "state": {
            "_view_name": "StyleView",
            "_model_name": "ProgressStyleModel",
            "description_width": "initial",
            "_view_module": "@jupyter-widgets/base",
            "_model_module_version": "1.5.0",
            "_view_count": null,
            "_view_module_version": "1.2.0",
            "bar_color": null,
            "_model_module": "@jupyter-widgets/controls"
          }
        },
        "a9ac5a2c45ed4f189df6350dc7505caa": {
          "model_module": "@jupyter-widgets/base",
          "model_name": "LayoutModel",
          "state": {
            "_view_name": "LayoutView",
            "grid_template_rows": null,
            "right": null,
            "justify_content": null,
            "_view_module": "@jupyter-widgets/base",
            "overflow": null,
            "_model_module_version": "1.2.0",
            "_view_count": null,
            "flex_flow": null,
            "width": null,
            "min_width": null,
            "border": null,
            "align_items": null,
            "bottom": null,
            "_model_module": "@jupyter-widgets/base",
            "top": null,
            "grid_column": null,
            "overflow_y": null,
            "overflow_x": null,
            "grid_auto_flow": null,
            "grid_area": null,
            "grid_template_columns": null,
            "flex": null,
            "_model_name": "LayoutModel",
            "justify_items": null,
            "grid_row": null,
            "max_height": null,
            "align_content": null,
            "visibility": null,
            "align_self": null,
            "height": null,
            "min_height": null,
            "padding": null,
            "grid_auto_rows": null,
            "grid_gap": null,
            "max_width": null,
            "order": null,
            "_view_module_version": "1.2.0",
            "grid_template_areas": null,
            "object_position": null,
            "object_fit": null,
            "grid_auto_columns": null,
            "margin": null,
            "display": null,
            "left": null
          }
        },
        "9c8902ca6d2246e1befcea6628b4a178": {
          "model_module": "@jupyter-widgets/controls",
          "model_name": "DescriptionStyleModel",
          "state": {
            "_view_name": "StyleView",
            "_model_name": "DescriptionStyleModel",
            "description_width": "",
            "_view_module": "@jupyter-widgets/base",
            "_model_module_version": "1.5.0",
            "_view_count": null,
            "_view_module_version": "1.2.0",
            "_model_module": "@jupyter-widgets/controls"
          }
        },
        "fe08ec2a7e004345bfcb3076c5211aa2": {
          "model_module": "@jupyter-widgets/base",
          "model_name": "LayoutModel",
          "state": {
            "_view_name": "LayoutView",
            "grid_template_rows": null,
            "right": null,
            "justify_content": null,
            "_view_module": "@jupyter-widgets/base",
            "overflow": null,
            "_model_module_version": "1.2.0",
            "_view_count": null,
            "flex_flow": null,
            "width": null,
            "min_width": null,
            "border": null,
            "align_items": null,
            "bottom": null,
            "_model_module": "@jupyter-widgets/base",
            "top": null,
            "grid_column": null,
            "overflow_y": null,
            "overflow_x": null,
            "grid_auto_flow": null,
            "grid_area": null,
            "grid_template_columns": null,
            "flex": null,
            "_model_name": "LayoutModel",
            "justify_items": null,
            "grid_row": null,
            "max_height": null,
            "align_content": null,
            "visibility": null,
            "align_self": null,
            "height": null,
            "min_height": null,
            "padding": null,
            "grid_auto_rows": null,
            "grid_gap": null,
            "max_width": null,
            "order": null,
            "_view_module_version": "1.2.0",
            "grid_template_areas": null,
            "object_position": null,
            "object_fit": null,
            "grid_auto_columns": null,
            "margin": null,
            "display": null,
            "left": null
          }
        }
      }
    }
  },
  "cells": [
    {
      "cell_type": "markdown",
      "metadata": {
        "id": "gtQa4-LOVPBi",
        "colab_type": "text"
      },
      "source": [
        "# Predicting Review rating from review text"
      ]
    },
    {
      "cell_type": "code",
      "metadata": {
        "id": "yEfUwLWT3noo",
        "colab_type": "code",
        "colab": {
          "base_uri": "https://localhost:8080/",
          "height": 71
        },
        "outputId": "61125e33-c4c5-471b-fa99-853fbbcf2494"
      },
      "source": [
        "# Loading libraries\n",
        "import warnings\n",
        "import nltk\n",
        "import os\n",
        "import pandas as pd\n",
        "import numpy as np\n",
        "import matplotlib.pyplot as plt\n",
        "import seaborn as sns\n",
        "\n",
        "\n",
        "# Dependency: pip install tqdm\n",
        "from tqdm import tqdm_notebook as tqdm\n",
        "\n",
        "from collections import Counter"
      ],
      "execution_count": 1,
      "outputs": [
        {
          "output_type": "stream",
          "text": [
            "/usr/local/lib/python3.6/dist-packages/statsmodels/tools/_testing.py:19: FutureWarning: pandas.util.testing is deprecated. Use the functions in the public API at pandas.testing instead.\n",
            "  import pandas.util.testing as tm\n"
          ],
          "name": "stderr"
        }
      ]
    },
    {
      "cell_type": "markdown",
      "metadata": {
        "id": "_SQTZg5rVPBk",
        "colab_type": "text"
      },
      "source": [
        "# <span style=\"color:dodgerblue\"> Linear Support Vector Machine Algorithm </span>"
      ]
    },
    {
      "cell_type": "code",
      "metadata": {
        "id": "KpphsyKq8ilN",
        "colab_type": "code",
        "outputId": "eecab264-7716-4440-e3e5-1373329861ab",
        "colab": {
          "base_uri": "https://localhost:8080/",
          "height": 122
        }
      },
      "source": [
        "from google.colab import drive\n",
        "drive.mount('/content/drive')"
      ],
      "execution_count": 2,
      "outputs": [
        {
          "output_type": "stream",
          "text": [
            "Go to this URL in a browser: https://accounts.google.com/o/oauth2/auth?client_id=947318989803-6bn6qk8qdgf4n4g3pfee6491hc0brc4i.apps.googleusercontent.com&redirect_uri=urn%3aietf%3awg%3aoauth%3a2.0%3aoob&response_type=code&scope=email%20https%3a%2f%2fwww.googleapis.com%2fauth%2fdocs.test%20https%3a%2f%2fwww.googleapis.com%2fauth%2fdrive%20https%3a%2f%2fwww.googleapis.com%2fauth%2fdrive.photos.readonly%20https%3a%2f%2fwww.googleapis.com%2fauth%2fpeopleapi.readonly\n",
            "\n",
            "Enter your authorization code:\n",
            "··········\n",
            "Mounted at /content/drive\n"
          ],
          "name": "stdout"
        }
      ]
    },
    {
      "cell_type": "code",
      "metadata": {
        "id": "nikBBmr2VPBl",
        "colab_type": "code",
        "outputId": "4d40e459-3814-4b35-dcc4-8377f75c172e",
        "colab": {
          "base_uri": "https://localhost:8080/",
          "height": 68
        }
      },
      "source": [
        "%pylab inline\n",
        "\n",
        "nltk.download('stopwords')\n",
        "warnings.filterwarnings('ignore')\n",
        "os.chdir('/content/drive/My Drive/YelpDataset')"
      ],
      "execution_count": 3,
      "outputs": [
        {
          "output_type": "stream",
          "text": [
            "Populating the interactive namespace from numpy and matplotlib\n",
            "[nltk_data] Downloading package stopwords to /root/nltk_data...\n",
            "[nltk_data]   Unzipping corpora/stopwords.zip.\n"
          ],
          "name": "stdout"
        }
      ]
    },
    {
      "cell_type": "code",
      "metadata": {
        "id": "hxshTzKcVPBs",
        "colab_type": "code",
        "colab": {}
      },
      "source": [
        "from IPython.core.interactiveshell import InteractiveShell\n",
        "InteractiveShell.ast_node_interactivity = \"all\""
      ],
      "execution_count": 0,
      "outputs": []
    },
    {
      "cell_type": "markdown",
      "metadata": {
        "id": "UfXWeZ0H82nF",
        "colab_type": "text"
      },
      "source": [
        "### Displaying max-height of 8000 px without scrolling, for cleaner visual representation\n",
        "### source : stackoverflow\n",
        "### https://stackoverflow.com/questions/18770504/resize-ipython-notebook-output-window"
      ]
    },
    {
      "cell_type": "code",
      "metadata": {
        "id": "ApnozHGnVPB0",
        "colab_type": "code",
        "outputId": "c89a7ec6-8c72-4da4-86a3-3d1558322258",
        "colab": {
          "base_uri": "https://localhost:8080/",
          "height": 17
        }
      },
      "source": [
        "%%html\n",
        "<style>\n",
        ".output_wrapper, .output {\n",
        "    height:auto !important;\n",
        "    max-height:2000px;  /* your desired max-height here */\n",
        "}\n",
        ".output_scroll {\n",
        "    box-shadow:none !important;\n",
        "    webkit-box-shadow:none !important;\n",
        "}\n",
        "</style>"
      ],
      "execution_count": 5,
      "outputs": [
        {
          "output_type": "display_data",
          "data": {
            "text/html": [
              "<style>\n",
              ".output_wrapper, .output {\n",
              "    height:auto !important;\n",
              "    max-height:2000px;  /* your desired max-height here */\n",
              "}\n",
              ".output_scroll {\n",
              "    box-shadow:none !important;\n",
              "    webkit-box-shadow:none !important;\n",
              "}\n",
              "</style>"
            ],
            "text/plain": [
              "<IPython.core.display.HTML object>"
            ]
          },
          "metadata": {
            "tags": []
          }
        }
      ]
    },
    {
      "cell_type": "code",
      "metadata": {
        "id": "bCZotuVWVPB4",
        "colab_type": "code",
        "outputId": "fbbacdb3-d889-400c-fb68-e74108cd1305",
        "colab": {
          "base_uri": "https://localhost:8080/",
          "height": 51
        }
      },
      "source": [
        "%%time\n",
        "import nltk\n",
        "from nltk.corpus import stopwords\n",
        "# nltk.download('stopwords')"
      ],
      "execution_count": 6,
      "outputs": [
        {
          "output_type": "stream",
          "text": [
            "CPU times: user 21 µs, sys: 5 µs, total: 26 µs\n",
            "Wall time: 29.3 µs\n"
          ],
          "name": "stdout"
        }
      ]
    },
    {
      "cell_type": "markdown",
      "metadata": {
        "id": "OlfUCW417NVp",
        "colab_type": "text"
      },
      "source": [
        "# Loading data-set\n",
        "### (reviews dataset with reviews of length 100-200 words for restaurants in Las Vegas)"
      ]
    },
    {
      "cell_type": "code",
      "metadata": {
        "id": "kOuBAvLvVPCB",
        "colab_type": "code",
        "outputId": "a2389228-3261-468c-daa4-891f14c671b9",
        "colab": {
          "base_uri": "https://localhost:8080/",
          "height": 563
        }
      },
      "source": [
        "%%time\n",
        "\n",
        "#The col_names are 'review_id', 'business_id', 'user_id', 'text', 'stars', 'text length'\n",
        "\n",
        "reviews_dataset = pd.read_csv('reviews_restaurants_text.csv', low_memory= False)\n",
        "display(reviews_dataset.head(10))"
      ],
      "execution_count": 7,
      "outputs": [
        {
          "output_type": "display_data",
          "data": {
            "text/html": [
              "<div>\n",
              "<style scoped>\n",
              "    .dataframe tbody tr th:only-of-type {\n",
              "        vertical-align: middle;\n",
              "    }\n",
              "\n",
              "    .dataframe tbody tr th {\n",
              "        vertical-align: top;\n",
              "    }\n",
              "\n",
              "    .dataframe thead th {\n",
              "        text-align: right;\n",
              "    }\n",
              "</style>\n",
              "<table border=\"1\" class=\"dataframe\">\n",
              "  <thead>\n",
              "    <tr style=\"text-align: right;\">\n",
              "      <th></th>\n",
              "      <th>review_id</th>\n",
              "      <th>business_id</th>\n",
              "      <th>user_id</th>\n",
              "      <th>text</th>\n",
              "      <th>stars</th>\n",
              "    </tr>\n",
              "  </thead>\n",
              "  <tbody>\n",
              "    <tr>\n",
              "      <th>0</th>\n",
              "      <td>8oFUMhJ7fR2-X3We9TiK7g</td>\n",
              "      <td>kfo1hXvNtGGThfrZGaWtVw</td>\n",
              "      <td>tL2pS5UOmN6aAOi3Z-qFGg</td>\n",
              "      <td>b\"I've been here a few times over the years. I...</td>\n",
              "      <td>4</td>\n",
              "    </tr>\n",
              "    <tr>\n",
              "      <th>1</th>\n",
              "      <td>xryg94pDLOO71veGcQINuQ</td>\n",
              "      <td>dfRAK2mgdHbL2_YsFqtCdQ</td>\n",
              "      <td>tL2pS5UOmN6aAOi3Z-qFGg</td>\n",
              "      <td>b\"I used to come here back in the 90s when thi...</td>\n",
              "      <td>1</td>\n",
              "    </tr>\n",
              "    <tr>\n",
              "      <th>2</th>\n",
              "      <td>adNS6X4TnaxuFFxzoezGzg</td>\n",
              "      <td>So132GP_uy3XbGs0KNyzyw</td>\n",
              "      <td>tL2pS5UOmN6aAOi3Z-qFGg</td>\n",
              "      <td>b\"I've eaten here a couple of times. Great foo...</td>\n",
              "      <td>5</td>\n",
              "    </tr>\n",
              "    <tr>\n",
              "      <th>3</th>\n",
              "      <td>JyOWXyxpN0PmPAF3OXkfCQ</td>\n",
              "      <td>cZBCVzd4lg_jx8IiFz-Iag</td>\n",
              "      <td>tL2pS5UOmN6aAOi3Z-qFGg</td>\n",
              "      <td>b\"Have grabbed a quick bite to eat hear many t...</td>\n",
              "      <td>4</td>\n",
              "    </tr>\n",
              "    <tr>\n",
              "      <th>4</th>\n",
              "      <td>ClB81WvkDJwDnHN6evg84w</td>\n",
              "      <td>WzkbnhI-fxdH_tMzT3evtA</td>\n",
              "      <td>tL2pS5UOmN6aAOi3Z-qFGg</td>\n",
              "      <td>b'This is one of the best bars in town. Not ma...</td>\n",
              "      <td>5</td>\n",
              "    </tr>\n",
              "    <tr>\n",
              "      <th>5</th>\n",
              "      <td>HBB5H80QrvJO9yp2K8Cnww</td>\n",
              "      <td>-P8dGzSVhJi-5oZ-8U2y0w</td>\n",
              "      <td>tL2pS5UOmN6aAOi3Z-qFGg</td>\n",
              "      <td>b\"We ate here on a recent visit to Vegas. We f...</td>\n",
              "      <td>3</td>\n",
              "    </tr>\n",
              "    <tr>\n",
              "      <th>6</th>\n",
              "      <td>D9LnScipvugG-DBMinBNGw</td>\n",
              "      <td>yz2EimDE7bBvq6b4mDe_zg</td>\n",
              "      <td>tL2pS5UOmN6aAOi3Z-qFGg</td>\n",
              "      <td>b'Stopped in here recently for breakfast. \\nWe...</td>\n",
              "      <td>2</td>\n",
              "    </tr>\n",
              "    <tr>\n",
              "      <th>7</th>\n",
              "      <td>8h8_hkjA76CL0WDwazRqDw</td>\n",
              "      <td>T6VKCBhHojQkCWp_IYO24w</td>\n",
              "      <td>tL2pS5UOmN6aAOi3Z-qFGg</td>\n",
              "      <td>b'Typical McDonalds. Food was typical. Employe...</td>\n",
              "      <td>3</td>\n",
              "    </tr>\n",
              "    <tr>\n",
              "      <th>8</th>\n",
              "      <td>xGYGeu0zSTqLsUlG-_h6kQ</td>\n",
              "      <td>SVGApDPNdpFlEjwRQThCxA</td>\n",
              "      <td>tL2pS5UOmN6aAOi3Z-qFGg</td>\n",
              "      <td>b'Stopped in here with my family for dinner to...</td>\n",
              "      <td>4</td>\n",
              "    </tr>\n",
              "    <tr>\n",
              "      <th>9</th>\n",
              "      <td>RNLRW8dfpYF2lH75YLPGjQ</td>\n",
              "      <td>QC9bLPcNk6ymAOHf03pHhQ</td>\n",
              "      <td>tL2pS5UOmN6aAOi3Z-qFGg</td>\n",
              "      <td>b'Stopped in here recently to grab a bite on t...</td>\n",
              "      <td>4</td>\n",
              "    </tr>\n",
              "  </tbody>\n",
              "</table>\n",
              "</div>"
            ],
            "text/plain": [
              "                review_id  ... stars\n",
              "0  8oFUMhJ7fR2-X3We9TiK7g  ...     4\n",
              "1  xryg94pDLOO71veGcQINuQ  ...     1\n",
              "2  adNS6X4TnaxuFFxzoezGzg  ...     5\n",
              "3  JyOWXyxpN0PmPAF3OXkfCQ  ...     4\n",
              "4  ClB81WvkDJwDnHN6evg84w  ...     5\n",
              "5  HBB5H80QrvJO9yp2K8Cnww  ...     3\n",
              "6  D9LnScipvugG-DBMinBNGw  ...     2\n",
              "7  8h8_hkjA76CL0WDwazRqDw  ...     3\n",
              "8  xGYGeu0zSTqLsUlG-_h6kQ  ...     4\n",
              "9  RNLRW8dfpYF2lH75YLPGjQ  ...     4\n",
              "\n",
              "[10 rows x 5 columns]"
            ]
          },
          "metadata": {
            "tags": []
          }
        },
        {
          "output_type": "stream",
          "text": [
            "CPU times: user 585 ms, sys: 179 ms, total: 765 ms\n",
            "Wall time: 1.52 s\n"
          ],
          "name": "stdout"
        }
      ]
    },
    {
      "cell_type": "code",
      "metadata": {
        "id": "42Ce4G6hVPCG",
        "colab_type": "code",
        "outputId": "fc690a20-7d7e-4123-9fcf-9d48e5c616d5",
        "colab": {
          "base_uri": "https://localhost:8080/",
          "height": 34
        }
      },
      "source": [
        "# reviews_dataset.shape[0] - gives number of row count\n",
        "print(\"The total number of Reviews are {}\".format(reviews_dataset.shape[0]))"
      ],
      "execution_count": 8,
      "outputs": [
        {
          "output_type": "stream",
          "text": [
            "The total number of Reviews are 154737\n"
          ],
          "name": "stdout"
        }
      ]
    },
    {
      "cell_type": "code",
      "metadata": {
        "id": "3WLLeouOVPCJ",
        "colab_type": "code",
        "outputId": "6dcc1ecb-fc88-4cac-ab23-b4046dd59c44",
        "colab": {
          "base_uri": "https://localhost:8080/",
          "height": 34
        }
      },
      "source": [
        "reviews_dataset.shape"
      ],
      "execution_count": 9,
      "outputs": [
        {
          "output_type": "execute_result",
          "data": {
            "text/plain": [
              "(154737, 5)"
            ]
          },
          "metadata": {
            "tags": []
          },
          "execution_count": 9
        }
      ]
    },
    {
      "cell_type": "markdown",
      "metadata": {
        "id": "Dy0phpbITwee",
        "colab_type": "text"
      },
      "source": [
        "###Data Cleansing"
      ]
    },
    {
      "cell_type": "code",
      "metadata": {
        "id": "7K0rySdSVPCM",
        "colab_type": "code",
        "colab": {}
      },
      "source": [
        "import string\n",
        "def get_clean_text(review_sample):\n",
        "    \n",
        "    #Takes in a string of text, then performs the following:\n",
        "    #1. Performs case normalization\n",
        "    #2. Remove all punctuation\n",
        "    #3. Remove all stopwords\n",
        "    #4. Return the cleaned text as a list of words\n",
        "\n",
        "    stopwords = nltk.corpus.stopwords.words('english')\n",
        "    newStopWords = ['ive','hadnt','couldnt','didnt', 'id']  ## more can also be added upon analysis\n",
        "    stopwords.extend(newStopWords)\n",
        "    text = review_sample\n",
        "    #display(text)\n",
        "    \n",
        "    # text format of b'Review_starts' is beacuse of some encofing stuff, so we will remove it to make our review a \n",
        "    # string like 'sample review'\n",
        "    text = text[2: len(review_sample)-1].lower()  ##  case normalization\n",
        "    #display(text)\n",
        "    \n",
        "    text = text.replace('\\\\n', ' ').replace('\\\\t', ' ')\n",
        "    #display(text)\n",
        "    nopunc = [char for char in text if char not in string.punctuation]\n",
        "    nopunc = ''.join(nopunc)\n",
        "    \n",
        "    #display(nopunc)\n",
        "    \n",
        "    l = [word for word in nopunc.split() if word.lower() not in stopwords]\n",
        "    clean_text = \"\"\n",
        "    for word in l:\n",
        "        clean_text += str(word)+\" \"\n",
        "    \n",
        "    return clean_text.strip()"
      ],
      "execution_count": 0,
      "outputs": []
    },
    {
      "cell_type": "code",
      "metadata": {
        "id": "Fhcp7OBrVPCQ",
        "colab_type": "code",
        "outputId": "593328db-fba1-4607-a4d9-f979d4f486fa",
        "colab": {
          "base_uri": "https://localhost:8080/",
          "height": 54
        }
      },
      "source": [
        "# TEST \n",
        "# get_clean_text()\n",
        "review_sample = reviews_dataset.text[28]\n",
        "display(get_clean_text(review_sample))"
      ],
      "execution_count": 11,
      "outputs": [
        {
          "output_type": "display_data",
          "data": {
            "text/plain": [
              "'clean fresh grade quality sushi ingredients friendly accommodating staff pleasure food go create burrito bowl add wasabi aioli im telling'"
            ]
          },
          "metadata": {
            "tags": []
          }
        }
      ]
    },
    {
      "cell_type": "code",
      "metadata": {
        "id": "N7JQpQNtVPCT",
        "colab_type": "code",
        "colab": {}
      },
      "source": [
        "import string\n",
        "def get_words(text):\n",
        "    \n",
        "    '''\n",
        "    Takes in a string of text, then performs the following:\n",
        "    1. Performs case normalization\n",
        "    2. Remove all punctuation\n",
        "    3. Remove all stopwords\n",
        "    4. Return the cleaned text as a list of words\n",
        "    '''\n",
        "    stopwords = nltk.corpus.stopwords.words('english')\n",
        "    newStopWords = ['ive','hadnt','couldnt','didnt', 'id']  ## more can also be added upon analysis\n",
        "    stopwords.extend(newStopWords)\n",
        "    \n",
        "    \n",
        "    # text format of b'Review_starts' is beacuse of some encofing stuff, so we will remove it to make our review a \n",
        "    # string like 'sample review'\n",
        "    text = text[2: len(review_sample)-1].lower()  ##  case normalization\n",
        "    #display(text)\n",
        "    \n",
        "    text = text.replace('\\\\n', ' ').replace('\\\\t', ' ')\n",
        "    display(text)\n",
        "    nopunc = [char for char in text if char not in string.punctuation]\n",
        "    nopunc = ''.join(nopunc)\n",
        "    \n",
        "    display(nopunc)\n",
        "    \n",
        "    l = [word for word in nopunc.split() if word.lower() not in stopwords]\n",
        "    \n",
        "    return l, len(l)"
      ],
      "execution_count": 0,
      "outputs": []
    },
    {
      "cell_type": "code",
      "metadata": {
        "id": "cKpSehdmVPCX",
        "colab_type": "code",
        "outputId": "a5990ded-052c-4a11-d1c6-272ef17344c8",
        "colab": {
          "base_uri": "https://localhost:8080/",
          "height": 309
        }
      },
      "source": [
        "for i in range(1):\n",
        "    review_sample = str(reviews_dataset.text[i])\n",
        "    #display(review_sample)\n",
        "    check = get_words(review_sample)\n",
        "    display(check[0]) # a tuple"
      ],
      "execution_count": 13,
      "outputs": [
        {
          "output_type": "display_data",
          "data": {
            "text/plain": [
              "\"i've been here a few times over the years. i'd probably eat here more if i didn't live on the opposite side of town.  i've always enjoyed my experience here and look forward to eating there again.\""
            ]
          },
          "metadata": {
            "tags": []
          }
        },
        {
          "output_type": "display_data",
          "data": {
            "text/plain": [
              "'ive been here a few times over the years id probably eat here more if i didnt live on the opposite side of town  ive always enjoyed my experience here and look forward to eating there again'"
            ]
          },
          "metadata": {
            "tags": []
          }
        },
        {
          "output_type": "display_data",
          "data": {
            "text/plain": [
              "['times',\n",
              " 'years',\n",
              " 'probably',\n",
              " 'eat',\n",
              " 'live',\n",
              " 'opposite',\n",
              " 'side',\n",
              " 'town',\n",
              " 'always',\n",
              " 'enjoyed',\n",
              " 'experience',\n",
              " 'look',\n",
              " 'forward',\n",
              " 'eating']"
            ]
          },
          "metadata": {
            "tags": []
          }
        }
      ]
    },
    {
      "cell_type": "code",
      "metadata": {
        "id": "b3Yjon50VPCa",
        "colab_type": "code",
        "outputId": "94a9421b-9e9e-49e0-ab98-1b196d0424f4",
        "colab": {
          "base_uri": "https://localhost:8080/",
          "height": 297
        }
      },
      "source": [
        "pd.set_option('display.precision', 2)\n",
        "reviews_dataset.describe()"
      ],
      "execution_count": 14,
      "outputs": [
        {
          "output_type": "execute_result",
          "data": {
            "text/html": [
              "<div>\n",
              "<style scoped>\n",
              "    .dataframe tbody tr th:only-of-type {\n",
              "        vertical-align: middle;\n",
              "    }\n",
              "\n",
              "    .dataframe tbody tr th {\n",
              "        vertical-align: top;\n",
              "    }\n",
              "\n",
              "    .dataframe thead th {\n",
              "        text-align: right;\n",
              "    }\n",
              "</style>\n",
              "<table border=\"1\" class=\"dataframe\">\n",
              "  <thead>\n",
              "    <tr style=\"text-align: right;\">\n",
              "      <th></th>\n",
              "      <th>stars</th>\n",
              "    </tr>\n",
              "  </thead>\n",
              "  <tbody>\n",
              "    <tr>\n",
              "      <th>count</th>\n",
              "      <td>154737.00</td>\n",
              "    </tr>\n",
              "    <tr>\n",
              "      <th>mean</th>\n",
              "      <td>4.08</td>\n",
              "    </tr>\n",
              "    <tr>\n",
              "      <th>std</th>\n",
              "      <td>1.29</td>\n",
              "    </tr>\n",
              "    <tr>\n",
              "      <th>min</th>\n",
              "      <td>1.00</td>\n",
              "    </tr>\n",
              "    <tr>\n",
              "      <th>25%</th>\n",
              "      <td>4.00</td>\n",
              "    </tr>\n",
              "    <tr>\n",
              "      <th>50%</th>\n",
              "      <td>5.00</td>\n",
              "    </tr>\n",
              "    <tr>\n",
              "      <th>75%</th>\n",
              "      <td>5.00</td>\n",
              "    </tr>\n",
              "    <tr>\n",
              "      <th>max</th>\n",
              "      <td>5.00</td>\n",
              "    </tr>\n",
              "  </tbody>\n",
              "</table>\n",
              "</div>"
            ],
            "text/plain": [
              "           stars\n",
              "count  154737.00\n",
              "mean        4.08\n",
              "std         1.29\n",
              "min         1.00\n",
              "25%         4.00\n",
              "50%         5.00\n",
              "75%         5.00\n",
              "max         5.00"
            ]
          },
          "metadata": {
            "tags": []
          },
          "execution_count": 14
        }
      ]
    },
    {
      "cell_type": "code",
      "metadata": {
        "id": "3SDsQUweVPCd",
        "colab_type": "code",
        "outputId": "a33eb266-c1fd-4e80-c373-bd8a99411b9b",
        "colab": {
          "base_uri": "https://localhost:8080/",
          "height": 119
        }
      },
      "source": [
        "reviews_dataset[\"stars\"].value_counts()\n",
        "type(reviews_dataset[\"stars\"].value_counts())"
      ],
      "execution_count": 15,
      "outputs": [
        {
          "output_type": "execute_result",
          "data": {
            "text/plain": [
              "5    85332\n",
              "4    33569\n",
              "1    14055\n",
              "3    13382\n",
              "2     8399\n",
              "Name: stars, dtype: int64"
            ]
          },
          "metadata": {
            "tags": []
          },
          "execution_count": 15
        },
        {
          "output_type": "execute_result",
          "data": {
            "text/plain": [
              "pandas.core.series.Series"
            ]
          },
          "metadata": {
            "tags": []
          },
          "execution_count": 15
        }
      ]
    },
    {
      "cell_type": "code",
      "metadata": {
        "id": "xw9DLv1mVPCh",
        "colab_type": "code",
        "outputId": "f98850fb-a7c9-4b8f-9463-fab82d8f581e",
        "colab": {
          "base_uri": "https://localhost:8080/",
          "height": 557
        }
      },
      "source": [
        "labels = '5-Stars', '4-Stars', '1-Star', '3-Stars', '2-Stars'\n",
        "sizes = reviews_dataset[\"stars\"].value_counts()\n",
        "colors = ['violet', 'yellowgreen', 'yellow', 'lightblue','orange']\n",
        " \n",
        "# Plot\n",
        "plt.pie(sizes, labels=labels, colors =colors, autopct='%1.1f%%') \n",
        "plt.axis('equal')\n",
        "plt.show()"
      ],
      "execution_count": 16,
      "outputs": [
        {
          "output_type": "execute_result",
          "data": {
            "text/plain": [
              "([<matplotlib.patches.Wedge at 0x7f947e507860>,\n",
              "  <matplotlib.patches.Wedge at 0x7f947e507fd0>,\n",
              "  <matplotlib.patches.Wedge at 0x7f947e5187b8>,\n",
              "  <matplotlib.patches.Wedge at 0x7f947e518f28>,\n",
              "  <matplotlib.patches.Wedge at 0x7f947e5236d8>],\n",
              " [Text(-0.1770755191496546, 1.0856538400972386, '5-Stars'),\n",
              "  Text(-0.5897835793738513, -0.9285231981490653, '4-Stars'),\n",
              "  Text(0.42938375569057347, -1.0127337213448846, '1-Star'),\n",
              "  Text(0.8998839503094006, -0.632620641439677, '3-Stars'),\n",
              "  Text(1.084045736733067, -0.1866677279844118, '2-Stars')],\n",
              " [Text(-0.0965866468089025, 0.5921748218712211, '55.1%'),\n",
              "  Text(-0.32170013420391885, -0.5064671989903992, '21.7%'),\n",
              "  Text(0.23420932128576732, -0.5524002116426642, '9.1%'),\n",
              "  Text(0.4908457910778548, -0.345065804421642, '8.6%'),\n",
              "  Text(0.5912976745816728, -0.10181876071877007, '5.4%')])"
            ]
          },
          "metadata": {
            "tags": []
          },
          "execution_count": 16
        },
        {
          "output_type": "execute_result",
          "data": {
            "text/plain": [
              "(-1.1103513751004472,\n",
              " 1.100492922623831,\n",
              " -1.1212902790941763,\n",
              " 1.1117931366919047)"
            ]
          },
          "metadata": {
            "tags": []
          },
          "execution_count": 16
        },
        {
          "output_type": "display_data",
          "data": {
            "image/png": "[encoded data removed]",
            "text/plain": [
              "<Figure size 432x288 with 1 Axes>"
            ]
          },
          "metadata": {
            "tags": []
          }
        }
      ]
    },
    {
      "cell_type": "markdown",
      "metadata": {
        "id": "LW2l8yD4UyJT",
        "colab_type": "text"
      },
      "source": [
        "#### (Dataset is imbalanced, but it is taken care of by under-sampling when we are using the reviews dataset for recommendations)"
      ]
    },
    {
      "cell_type": "markdown",
      "metadata": {
        "id": "Ec-f7qmOVPCn",
        "colab_type": "text"
      },
      "source": [
        "### Loading clean data into texts list\n",
        "####(we're interested in the text of each review and the stars rating, so we load these into separate lists)"
      ]
    },
    {
      "cell_type": "code",
      "metadata": {
        "id": "stif_vX8VPCo",
        "colab_type": "code",
        "outputId": "abe91a2b-bfae-4460-b061-08760efdf63b",
        "colab": {
          "base_uri": "https://localhost:8080/",
          "height": 100,
          "referenced_widgets": [
            "35677fe66c8f40ff9e14543c204baa79",
            "665e7ede656d4b2bad984f41b04eb910",
            "564cda34840845d79398e641d842b6c3",
            "c4c541831f3d483cb966e19f43f89f27",
            "d362756671494b08bf2e5a2514ff8369",
            "a9ac5a2c45ed4f189df6350dc7505caa",
            "9c8902ca6d2246e1befcea6628b4a178",
            "fe08ec2a7e004345bfcb3076c5211aa2"
          ]
        }
      },
      "source": [
        "%%time\n",
        "\n",
        "texts = []\n",
        "stars = [reviews_dataset['stars'] for review in reviews_dataset]\n",
        "pbar = tqdm(total=reviews_dataset.shape[0]+1)\n",
        "for index, row in reviews_dataset.iterrows():\n",
        "    texts.append(get_clean_text(row['text']))\n",
        "    pbar.update(1)\n",
        "pbar.close()"
      ],
      "execution_count": 17,
      "outputs": [
        {
          "output_type": "display_data",
          "data": {
            "application/vnd.jupyter.widget-view+json": {
              "model_id": "35677fe66c8f40ff9e14543c204baa79",
              "version_minor": 0,
              "version_major": 2
            },
            "text/plain": [
              "HBox(children=(FloatProgress(value=0.0, max=154738.0), HTML(value='')))"
            ]
          },
          "metadata": {
            "tags": []
          }
        },
        {
          "output_type": "stream",
          "text": [
            "\n",
            "CPU times: user 60 s, sys: 3.4 s, total: 1min 3s\n",
            "Wall time: 1min 3s\n"
          ],
          "name": "stdout"
        }
      ]
    },
    {
      "cell_type": "markdown",
      "metadata": {
        "id": "KpmfW6KBWMuB",
        "colab_type": "text"
      },
      "source": [
        "#### Vectorizing and tokenizing the Text Data ( the TF-IDF algorithm along with n-grams)"
      ]
    },
    {
      "cell_type": "code",
      "metadata": {
        "id": "tgr6AYWGVPCw",
        "colab_type": "code",
        "outputId": "2be64719-7b00-4460-d5f2-3c8a73799d5c",
        "colab": {
          "base_uri": "https://localhost:8080/",
          "height": 51
        }
      },
      "source": [
        "%%time\n",
        "# Estimated time: 29.8 s\n",
        "from sklearn.feature_extraction.text import TfidfVectorizer\n",
        "\n",
        "# This vectorizer breaks text into single words and bi-grams\n",
        "# and then calculates the TF-IDF representation\n",
        "vectorizer = TfidfVectorizer(ngram_range=(1,3))\n",
        "\n",
        "# the 'fit' builds up the vocabulary from all the reviews\n",
        "# while the 'transform' step turns each indivdual text into\n",
        "# a matrix of numbers.\n",
        "vectors = vectorizer.fit_transform(texts)"
      ],
      "execution_count": 18,
      "outputs": [
        {
          "output_type": "stream",
          "text": [
            "CPU times: user 22.5 s, sys: 731 ms, total: 23.3 s\n",
            "Wall time: 23.3 s\n"
          ],
          "name": "stdout"
        }
      ]
    },
    {
      "cell_type": "markdown",
      "metadata": {
        "id": "2AxobVgLVPCz",
        "colab_type": "text"
      },
      "source": [
        "## Splitting dataset into Train and test Data"
      ]
    },
    {
      "cell_type": "code",
      "metadata": {
        "id": "NjQoiBFEVPC0",
        "colab_type": "code",
        "colab": {}
      },
      "source": [
        "from sklearn.model_selection import train_test_split\n",
        "X_train, X_test, y_train, y_test = train_test_split(vectors, stars[1], test_size=0.15, random_state=42, shuffle =False)"
      ],
      "execution_count": 0,
      "outputs": []
    },
    {
      "cell_type": "markdown",
      "metadata": {
        "id": "EZy9gxzZW09s",
        "colab_type": "text"
      },
      "source": [
        "####We now have 15% of our data in X_test and y_test. We’ll teach our system using 85% of the data (X_train and y_train) and then see how well it does by comparing its predictions for the reviews in X_test with the real ratings in y_test."
      ]
    },
    {
      "cell_type": "markdown",
      "metadata": {
        "id": "KUS1mJOgVPC6",
        "colab_type": "text"
      },
      "source": [
        "## Fitting a Classifier and Making Predictions\n",
        "The classifier we’ll use is a Linear Support Vector Machine (SVM), \n",
        "which has been shown to perform well on several text classifications tasks."
      ]
    },
    {
      "cell_type": "code",
      "metadata": {
        "id": "j1CuP7wIVPC7",
        "colab_type": "code",
        "outputId": "7efd712f-ae82-4804-8ff3-4bf415dbd870",
        "colab": {
          "base_uri": "https://localhost:8080/",
          "height": 51
        }
      },
      "source": [
        "%%time\n",
        "\n",
        "from sklearn.svm import LinearSVC# Estimated time: 12.6 s\n",
        "\n",
        "classifier = LinearSVC()# initialise the SVM classifier\n",
        "\n",
        "classifier.fit(X_train, y_train) #train the classifier"
      ],
      "execution_count": 20,
      "outputs": [
        {
          "output_type": "stream",
          "text": [
            "CPU times: user 13.8 s, sys: 103 ms, total: 13.9 s\n",
            "Wall time: 13.9 s\n"
          ],
          "name": "stdout"
        }
      ]
    },
    {
      "cell_type": "markdown",
      "metadata": {
        "id": "HN9SaygaXdz-",
        "colab_type": "text"
      },
      "source": [
        "#### Classifier has been fitted, it can now be used to make predictions. Predicting the rating for the first ten reviews in our test set"
      ]
    },
    {
      "cell_type": "code",
      "metadata": {
        "id": "ZDmYa2jVVPDB",
        "colab_type": "code",
        "outputId": "37704f11-6a89-4dc5-89d1-6e286cd8b77e",
        "colab": {
          "base_uri": "https://localhost:8080/",
          "height": 238
        }
      },
      "source": [
        "# Using our trained classifier to predict the ratings from text\n",
        "\n",
        "preds = classifier.predict(X_test)\n",
        "print(\"Actual Ratings(Stars): \",end = \"\")\n",
        "display(y_test[:10])\n",
        "print(\"Predicted Ratings: \",end = \"\")\n",
        "print(preds[:10])"
      ],
      "execution_count": 21,
      "outputs": [
        {
          "output_type": "stream",
          "text": [
            "Actual Ratings(Stars): "
          ],
          "name": "stdout"
        },
        {
          "output_type": "display_data",
          "data": {
            "text/plain": [
              "131526    3\n",
              "131527    1\n",
              "131528    3\n",
              "131529    3\n",
              "131530    4\n",
              "131531    3\n",
              "131532    5\n",
              "131533    5\n",
              "131534    5\n",
              "131535    2\n",
              "Name: stars, dtype: int64"
            ]
          },
          "metadata": {
            "tags": []
          }
        },
        {
          "output_type": "stream",
          "text": [
            "Predicted Ratings: [3 2 4 5 5 1 4 4 5 1]\n"
          ],
          "name": "stdout"
        }
      ]
    },
    {
      "cell_type": "markdown",
      "metadata": {
        "id": "PA7IfmuiVPDE",
        "colab_type": "text"
      },
      "source": [
        "## <span style=\"color:orangered\"> Observations </span>"
      ]
    },
    {
      "cell_type": "markdown",
      "metadata": {
        "id": "0-8Efx6DVPDF",
        "colab_type": "text"
      },
      "source": [
        "<b>  Example:\n",
        "<br> The model predicts a different rating(2) based on features of the review text, for acutal rating index 131527 (which is 1) </b>"
      ]
    },
    {
      "cell_type": "code",
      "metadata": {
        "id": "hHk-pqLrVPDG",
        "colab_type": "code",
        "outputId": "ed6c2caa-18d2-464c-8d08-a0782b16855d",
        "colab": {
          "base_uri": "https://localhost:8080/",
          "height": 34
        }
      },
      "source": [
        "\n",
        "predict_all = classifier.predict(vectors)\n",
        "print(shape(predict_all))"
      ],
      "execution_count": 22,
      "outputs": [
        {
          "output_type": "stream",
          "text": [
            "(154737,)\n"
          ],
          "name": "stdout"
        }
      ]
    },
    {
      "cell_type": "code",
      "metadata": {
        "id": "fPAXaxfsVPDJ",
        "colab_type": "code",
        "outputId": "95dcd51e-9b49-4536-fa69-150e2a12bc80",
        "colab": {
          "base_uri": "https://localhost:8080/",
          "height": 357
        }
      },
      "source": [
        "predicted_stars = list(predict_all)\n",
        "\n",
        "print(\"Actual Ratings(Stars): \")\n",
        "print(stars[1][154720:154736])\n",
        "print(\"\\nPredicted Ratings: \",end = \"\")\n",
        "print(predicted_stars[154720:154736])"
      ],
      "execution_count": 23,
      "outputs": [
        {
          "output_type": "stream",
          "text": [
            "Actual Ratings(Stars): \n",
            "154720    5\n",
            "154721    3\n",
            "154722    5\n",
            "154723    5\n",
            "154724    4\n",
            "154725    2\n",
            "154726    5\n",
            "154727    5\n",
            "154728    4\n",
            "154729    3\n",
            "154730    5\n",
            "154731    4\n",
            "154732    4\n",
            "154733    3\n",
            "154734    4\n",
            "154735    1\n",
            "Name: stars, dtype: int64\n",
            "\n",
            "Predicted Ratings: [5, 2, 5, 5, 5, 1, 5, 5, 4, 5, 5, 5, 4, 5, 4, 5]\n"
          ],
          "name": "stdout"
        }
      ]
    },
    {
      "cell_type": "markdown",
      "metadata": {
        "id": "78pfBFG9X2Wm",
        "colab_type": "text"
      },
      "source": [
        "## Making new CSVs from dataframe"
      ]
    },
    {
      "cell_type": "code",
      "metadata": {
        "id": "KWEU6im9VPDO",
        "colab_type": "code",
        "outputId": "c7db4162-8a1b-439d-f0be-9d0a98fe6b5c",
        "colab": {
          "base_uri": "https://localhost:8080/",
          "height": 1000
        }
      },
      "source": [
        "print(\"\\nOriginal Reviews with user bias\")\n",
        "display(reviews_dataset.tail(10))\n",
        "\n",
        "print(\"\\nUnbiased Reviews with predicted rating using user's review text\")\n",
        "unbiased_reviews_dataset = reviews_dataset\n",
        "\n",
        "# dropping actual ratings(stars) by user\n",
        "unbiased_reviews_dataset = unbiased_reviews_dataset.drop('stars', 1)\n",
        "\n",
        "# adding the unbiased predicted rating\n",
        "unbiased_reviews_dataset['stars'] = predicted_stars\n",
        "\n",
        "display(unbiased_reviews_dataset.tail(10))"
      ],
      "execution_count": 24,
      "outputs": [
        {
          "output_type": "stream",
          "text": [
            "\n",
            "Original Reviews with user bias\n"
          ],
          "name": "stdout"
        },
        {
          "output_type": "display_data",
          "data": {
            "text/html": [
              "<div>\n",
              "<style scoped>\n",
              "    .dataframe tbody tr th:only-of-type {\n",
              "        vertical-align: middle;\n",
              "    }\n",
              "\n",
              "    .dataframe tbody tr th {\n",
              "        vertical-align: top;\n",
              "    }\n",
              "\n",
              "    .dataframe thead th {\n",
              "        text-align: right;\n",
              "    }\n",
              "</style>\n",
              "<table border=\"1\" class=\"dataframe\">\n",
              "  <thead>\n",
              "    <tr style=\"text-align: right;\">\n",
              "      <th></th>\n",
              "      <th>review_id</th>\n",
              "      <th>business_id</th>\n",
              "      <th>user_id</th>\n",
              "      <th>text</th>\n",
              "      <th>stars</th>\n",
              "    </tr>\n",
              "  </thead>\n",
              "  <tbody>\n",
              "    <tr>\n",
              "      <th>154727</th>\n",
              "      <td>mrZi82Hmgx5UO5gVXLE4Cw</td>\n",
              "      <td>anrLWKAKm3hFLcJpbhEDUg</td>\n",
              "      <td>-Ve_iU4LrfV5hh9Ca8AMkQ</td>\n",
              "      <td>b\"Shane was honestly the funniest and nicest s...</td>\n",
              "      <td>5</td>\n",
              "    </tr>\n",
              "    <tr>\n",
              "      <th>154728</th>\n",
              "      <td>zmRR9Sp1um0d2MfyatmUrA</td>\n",
              "      <td>YQ--LJ7pvjiDSqNv0TuKTQ</td>\n",
              "      <td>UBQq6S_FsZQa4J8cS_6Wzw</td>\n",
              "      <td>b'Solid 4-star pizza joint! We had great servi...</td>\n",
              "      <td>4</td>\n",
              "    </tr>\n",
              "    <tr>\n",
              "      <th>154729</th>\n",
              "      <td>5aCzF_praG32ikbr4Fj3uw</td>\n",
              "      <td>D8a2usm9b-j89W9IrJ_Evw</td>\n",
              "      <td>Rex_y8h-BRx_Xzc9A6u-_g</td>\n",
              "      <td>b\"I always come here when I'm in Vegas for the...</td>\n",
              "      <td>3</td>\n",
              "    </tr>\n",
              "    <tr>\n",
              "      <th>154730</th>\n",
              "      <td>-dr3GveFriZqgw38T1lpMA</td>\n",
              "      <td>rbcfYmJtqwIkk17IeOI5Kw</td>\n",
              "      <td>iI-Tzs2jfDhdOfocBFiLMQ</td>\n",
              "      <td>b'Great ambiance, excellent cocktails, good se...</td>\n",
              "      <td>5</td>\n",
              "    </tr>\n",
              "    <tr>\n",
              "      <th>154731</th>\n",
              "      <td>XIcczbWfDSQoKJBiUEoU2Q</td>\n",
              "      <td>6fPQJq4f_yiq1NHn0fd11Q</td>\n",
              "      <td>IqIpCfg0qDhIkaUJGKzlyw</td>\n",
              "      <td>b'have a crepe in paris :) You can get full of...</td>\n",
              "      <td>4</td>\n",
              "    </tr>\n",
              "    <tr>\n",
              "      <th>154732</th>\n",
              "      <td>I1Kt09IdYr6Je9Eikod0jg</td>\n",
              "      <td>hroo5nOO8b9QhHX0GLg7oA</td>\n",
              "      <td>zaasTFLY_SX-2Uj2zlHUmQ</td>\n",
              "      <td>b'Service is fast here n the pho is good along...</td>\n",
              "      <td>4</td>\n",
              "    </tr>\n",
              "    <tr>\n",
              "      <th>154733</th>\n",
              "      <td>W5Heng3eRVJJTNVo5gJmSw</td>\n",
              "      <td>DkYS3arLOhA8si5uUEmHOw</td>\n",
              "      <td>AOFDB60pjiXby08lx5HHYQ</td>\n",
              "      <td>b\"Why is this place so highly rated? It's just...</td>\n",
              "      <td>3</td>\n",
              "    </tr>\n",
              "    <tr>\n",
              "      <th>154734</th>\n",
              "      <td>ODGDaWgm5gi3NeVDytm9Qw</td>\n",
              "      <td>Xspg78dOvuedvuPEUwZBjw</td>\n",
              "      <td>AOFDB60pjiXby08lx5HHYQ</td>\n",
              "      <td>b'Ordered the extra hot latte.  Place is prett...</td>\n",
              "      <td>4</td>\n",
              "    </tr>\n",
              "    <tr>\n",
              "      <th>154735</th>\n",
              "      <td>YYMoqTFxli1k9wQceIo_xA</td>\n",
              "      <td>HUKbH7r9TBJPri6LJbBKtw</td>\n",
              "      <td>iXwIKbN2NNlB6QPZwZvrZw</td>\n",
              "      <td>b'All the reviews must be from friends or fami...</td>\n",
              "      <td>1</td>\n",
              "    </tr>\n",
              "    <tr>\n",
              "      <th>154736</th>\n",
              "      <td>o-QGNfLQ36FtR-UK5H1TFA</td>\n",
              "      <td>Q7m8G4579-XYKV3LMW8V7g</td>\n",
              "      <td>67tsUtcLuP5mwTFm3-mrzA</td>\n",
              "      <td>b\"Walked across the street from HRH for a late...</td>\n",
              "      <td>4</td>\n",
              "    </tr>\n",
              "  </tbody>\n",
              "</table>\n",
              "</div>"
            ],
            "text/plain": [
              "                     review_id  ... stars\n",
              "154727  mrZi82Hmgx5UO5gVXLE4Cw  ...     5\n",
              "154728  zmRR9Sp1um0d2MfyatmUrA  ...     4\n",
              "154729  5aCzF_praG32ikbr4Fj3uw  ...     3\n",
              "154730  -dr3GveFriZqgw38T1lpMA  ...     5\n",
              "154731  XIcczbWfDSQoKJBiUEoU2Q  ...     4\n",
              "154732  I1Kt09IdYr6Je9Eikod0jg  ...     4\n",
              "154733  W5Heng3eRVJJTNVo5gJmSw  ...     3\n",
              "154734  ODGDaWgm5gi3NeVDytm9Qw  ...     4\n",
              "154735  YYMoqTFxli1k9wQceIo_xA  ...     1\n",
              "154736  o-QGNfLQ36FtR-UK5H1TFA  ...     4\n",
              "\n",
              "[10 rows x 5 columns]"
            ]
          },
          "metadata": {
            "tags": []
          }
        },
        {
          "output_type": "stream",
          "text": [
            "\n",
            "Unbiased Reviews with predicted rating using user's review text\n"
          ],
          "name": "stdout"
        },
        {
          "output_type": "display_data",
          "data": {
            "text/html": [
              "<div>\n",
              "<style scoped>\n",
              "    .dataframe tbody tr th:only-of-type {\n",
              "        vertical-align: middle;\n",
              "    }\n",
              "\n",
              "    .dataframe tbody tr th {\n",
              "        vertical-align: top;\n",
              "    }\n",
              "\n",
              "    .dataframe thead th {\n",
              "        text-align: right;\n",
              "    }\n",
              "</style>\n",
              "<table border=\"1\" class=\"dataframe\">\n",
              "  <thead>\n",
              "    <tr style=\"text-align: right;\">\n",
              "      <th></th>\n",
              "      <th>review_id</th>\n",
              "      <th>business_id</th>\n",
              "      <th>user_id</th>\n",
              "      <th>text</th>\n",
              "      <th>stars</th>\n",
              "    </tr>\n",
              "  </thead>\n",
              "  <tbody>\n",
              "    <tr>\n",
              "      <th>154727</th>\n",
              "      <td>mrZi82Hmgx5UO5gVXLE4Cw</td>\n",
              "      <td>anrLWKAKm3hFLcJpbhEDUg</td>\n",
              "      <td>-Ve_iU4LrfV5hh9Ca8AMkQ</td>\n",
              "      <td>b\"Shane was honestly the funniest and nicest s...</td>\n",
              "      <td>5</td>\n",
              "    </tr>\n",
              "    <tr>\n",
              "      <th>154728</th>\n",
              "      <td>zmRR9Sp1um0d2MfyatmUrA</td>\n",
              "      <td>YQ--LJ7pvjiDSqNv0TuKTQ</td>\n",
              "      <td>UBQq6S_FsZQa4J8cS_6Wzw</td>\n",
              "      <td>b'Solid 4-star pizza joint! We had great servi...</td>\n",
              "      <td>4</td>\n",
              "    </tr>\n",
              "    <tr>\n",
              "      <th>154729</th>\n",
              "      <td>5aCzF_praG32ikbr4Fj3uw</td>\n",
              "      <td>D8a2usm9b-j89W9IrJ_Evw</td>\n",
              "      <td>Rex_y8h-BRx_Xzc9A6u-_g</td>\n",
              "      <td>b\"I always come here when I'm in Vegas for the...</td>\n",
              "      <td>5</td>\n",
              "    </tr>\n",
              "    <tr>\n",
              "      <th>154730</th>\n",
              "      <td>-dr3GveFriZqgw38T1lpMA</td>\n",
              "      <td>rbcfYmJtqwIkk17IeOI5Kw</td>\n",
              "      <td>iI-Tzs2jfDhdOfocBFiLMQ</td>\n",
              "      <td>b'Great ambiance, excellent cocktails, good se...</td>\n",
              "      <td>5</td>\n",
              "    </tr>\n",
              "    <tr>\n",
              "      <th>154731</th>\n",
              "      <td>XIcczbWfDSQoKJBiUEoU2Q</td>\n",
              "      <td>6fPQJq4f_yiq1NHn0fd11Q</td>\n",
              "      <td>IqIpCfg0qDhIkaUJGKzlyw</td>\n",
              "      <td>b'have a crepe in paris :) You can get full of...</td>\n",
              "      <td>5</td>\n",
              "    </tr>\n",
              "    <tr>\n",
              "      <th>154732</th>\n",
              "      <td>I1Kt09IdYr6Je9Eikod0jg</td>\n",
              "      <td>hroo5nOO8b9QhHX0GLg7oA</td>\n",
              "      <td>zaasTFLY_SX-2Uj2zlHUmQ</td>\n",
              "      <td>b'Service is fast here n the pho is good along...</td>\n",
              "      <td>4</td>\n",
              "    </tr>\n",
              "    <tr>\n",
              "      <th>154733</th>\n",
              "      <td>W5Heng3eRVJJTNVo5gJmSw</td>\n",
              "      <td>DkYS3arLOhA8si5uUEmHOw</td>\n",
              "      <td>AOFDB60pjiXby08lx5HHYQ</td>\n",
              "      <td>b\"Why is this place so highly rated? It's just...</td>\n",
              "      <td>5</td>\n",
              "    </tr>\n",
              "    <tr>\n",
              "      <th>154734</th>\n",
              "      <td>ODGDaWgm5gi3NeVDytm9Qw</td>\n",
              "      <td>Xspg78dOvuedvuPEUwZBjw</td>\n",
              "      <td>AOFDB60pjiXby08lx5HHYQ</td>\n",
              "      <td>b'Ordered the extra hot latte.  Place is prett...</td>\n",
              "      <td>4</td>\n",
              "    </tr>\n",
              "    <tr>\n",
              "      <th>154735</th>\n",
              "      <td>YYMoqTFxli1k9wQceIo_xA</td>\n",
              "      <td>HUKbH7r9TBJPri6LJbBKtw</td>\n",
              "      <td>iXwIKbN2NNlB6QPZwZvrZw</td>\n",
              "      <td>b'All the reviews must be from friends or fami...</td>\n",
              "      <td>5</td>\n",
              "    </tr>\n",
              "    <tr>\n",
              "      <th>154736</th>\n",
              "      <td>o-QGNfLQ36FtR-UK5H1TFA</td>\n",
              "      <td>Q7m8G4579-XYKV3LMW8V7g</td>\n",
              "      <td>67tsUtcLuP5mwTFm3-mrzA</td>\n",
              "      <td>b\"Walked across the street from HRH for a late...</td>\n",
              "      <td>5</td>\n",
              "    </tr>\n",
              "  </tbody>\n",
              "</table>\n",
              "</div>"
            ],
            "text/plain": [
              "                     review_id  ... stars\n",
              "154727  mrZi82Hmgx5UO5gVXLE4Cw  ...     5\n",
              "154728  zmRR9Sp1um0d2MfyatmUrA  ...     4\n",
              "154729  5aCzF_praG32ikbr4Fj3uw  ...     5\n",
              "154730  -dr3GveFriZqgw38T1lpMA  ...     5\n",
              "154731  XIcczbWfDSQoKJBiUEoU2Q  ...     5\n",
              "154732  I1Kt09IdYr6Je9Eikod0jg  ...     4\n",
              "154733  W5Heng3eRVJJTNVo5gJmSw  ...     5\n",
              "154734  ODGDaWgm5gi3NeVDytm9Qw  ...     4\n",
              "154735  YYMoqTFxli1k9wQceIo_xA  ...     5\n",
              "154736  o-QGNfLQ36FtR-UK5H1TFA  ...     5\n",
              "\n",
              "[10 rows x 5 columns]"
            ]
          },
          "metadata": {
            "tags": []
          }
        }
      ]
    },
    {
      "cell_type": "code",
      "metadata": {
        "id": "pMEjCQALVPDS",
        "colab_type": "code",
        "colab": {}
      },
      "source": [
        "# write dataframe to csv\n",
        "file_name = \"/content/drive/My Drive/YelpDataset/reviews_restaurants_text_unbiased_svm.csv\"\n",
        "unbiased_reviews_dataset.to_csv(file_name, encoding='utf-8', index=False)"
      ],
      "execution_count": 0,
      "outputs": []
    },
    {
      "cell_type": "code",
      "metadata": {
        "id": "EVcKhCsEVPDV",
        "colab_type": "code",
        "colab": {}
      },
      "source": [
        "# testing unbiased rating by loading from new csv file\n",
        "\n",
        "#new_reviews_dataset = pd.read_csv('reviews_restaurants_text_unbiased_svm.csv', low_memory= False)\n",
        "#display(new_reviews_dataset.tail(10))"
      ],
      "execution_count": 0,
      "outputs": []
    },
    {
      "cell_type": "markdown",
      "metadata": {
        "id": "mSg_akHlVPDZ",
        "colab_type": "text"
      },
      "source": [
        "## Evaluating our Classifier"
      ]
    },
    {
      "cell_type": "markdown",
      "metadata": {
        "id": "RCWf11k0YbGQ",
        "colab_type": "text"
      },
      "source": [
        "###### The simplest method for evaluating such a system is to see the percentage of the time it accurately predicts the desired answer. This method is called accuracy. We can calculate the accuracy of our system by comparing the predicted reviews and the real reviews. When they are the same, our classifier predicted the review correctly. We sum up all of the correct answers and divide by the total number of reviews in our test set. If this number is equal to 1, it means our classifier was spot on every time."
      ]
    },
    {
      "cell_type": "markdown",
      "metadata": {
        "id": "NsugVBRBVPDc",
        "colab_type": "text"
      },
      "source": [
        "## <span style=\"color:orangered\"> Accuracy of the model </span>"
      ]
    },
    {
      "cell_type": "code",
      "metadata": {
        "id": "_akrigoMVPDc",
        "colab_type": "code",
        "outputId": "0446d23e-ceee-4d61-f062-9524943fb832",
        "colab": {
          "base_uri": "https://localhost:8080/",
          "height": 34
        }
      },
      "source": [
        "from sklearn.metrics import accuracy_score\n",
        "print(accuracy_score(y_test, preds))"
      ],
      "execution_count": 27,
      "outputs": [
        {
          "output_type": "stream",
          "text": [
            "0.6912239886260825\n"
          ],
          "name": "stdout"
        }
      ]
    },
    {
      "cell_type": "markdown",
      "metadata": {
        "id": "nyTrzyeYY7Wi",
        "colab_type": "text"
      },
      "source": [
        "##### Precision and Recall are better for evaluating rather than using just accuracy measure."
      ]
    },
    {
      "cell_type": "markdown",
      "metadata": {
        "id": "GOpZc-nAVPDl",
        "colab_type": "text"
      },
      "source": [
        "## <span style=\"color:orangered\"> Precision and Recall of the model</span>"
      ]
    },
    {
      "cell_type": "code",
      "metadata": {
        "id": "EO-t7m5rVPDl",
        "colab_type": "code",
        "outputId": "151afc41-0e5f-4b51-d330-81cac739c108",
        "colab": {
          "base_uri": "https://localhost:8080/",
          "height": 51
        }
      },
      "source": [
        "from sklearn.metrics import precision_score\n",
        "from sklearn.metrics import recall_score\n",
        "print ('Precision: ' + str(precision_score(y_test, preds, average='weighted')))\n",
        "print ('Recall: ' + str(recall_score(y_test, preds, average='weighted')))"
      ],
      "execution_count": 28,
      "outputs": [
        {
          "output_type": "stream",
          "text": [
            "Precision: 0.6520860745033371\n",
            "Recall: 0.6912239886260825\n"
          ],
          "name": "stdout"
        }
      ]
    },
    {
      "cell_type": "markdown",
      "metadata": {
        "id": "xyCz13RSVPDo",
        "colab_type": "text"
      },
      "source": [
        "## <span style=\"color:orangered\"> Classification Report </span>"
      ]
    },
    {
      "cell_type": "code",
      "metadata": {
        "id": "sKMSlxxZVPDp",
        "colab_type": "code",
        "outputId": "383eec7c-ae90-45d6-97de-c89595d64ade",
        "colab": {
          "base_uri": "https://localhost:8080/",
          "height": 221
        }
      },
      "source": [
        "from sklearn.metrics import classification_report\n",
        "print(classification_report(y_test, preds))"
      ],
      "execution_count": 29,
      "outputs": [
        {
          "output_type": "stream",
          "text": [
            "              precision    recall  f1-score   support\n",
            "\n",
            "           1       0.69      0.78      0.74      2120\n",
            "           2       0.45      0.16      0.24      1257\n",
            "           3       0.52      0.31      0.39      1957\n",
            "           4       0.48      0.30      0.37      4920\n",
            "           5       0.75      0.93      0.83     12957\n",
            "\n",
            "    accuracy                           0.69     23211\n",
            "   macro avg       0.58      0.50      0.51     23211\n",
            "weighted avg       0.65      0.69      0.66     23211\n",
            "\n"
          ],
          "name": "stdout"
        }
      ]
    },
    {
      "cell_type": "markdown",
      "metadata": {
        "id": "dbuyym1XVPDs",
        "colab_type": "text"
      },
      "source": [
        "##Plotting Confusion Metrics"
      ]
    },
    {
      "cell_type": "code",
      "metadata": {
        "id": "m0J1WaXEVPDt",
        "colab_type": "code",
        "colab": {}
      },
      "source": [
        "# Helper function for plotting confusion metrics\n",
        "\n",
        "# citation: http://scikit-learn.org/stable/auto_examples/model_selection/plot_confusion_matrix.html#sphx-glr-auto-examples-model-selection-plot-confusion-matrix-py\n",
        "import itertools  \n",
        "def plot_confusion_matrix(cm, classes,\n",
        "                          normalize=False,\n",
        "                          title='Confusion matrix',\n",
        "                          cmap=plt.cm.Blues):\n",
        "    \"\"\"\n",
        "    This function prints and plots the confusion matrix.\n",
        "    Normalization can be applied by setting `normalize=True`.\n",
        "    \"\"\"\n",
        "    if normalize:\n",
        "        cm = cm.astype('float') / cm.sum(axis=1)[:, np.newaxis]\n",
        "        print(\"Normalized confusion matrix\")\n",
        "    else:\n",
        "        print('Confusion matrix, without normalization')\n",
        "\n",
        "    print(cm)\n",
        "\n",
        "    plt.imshow(cm, interpolation='nearest', cmap=cmap)\n",
        "    plt.title(title)\n",
        "    plt.colorbar()\n",
        "    tick_marks = np.arange(len(classes))\n",
        "    plt.xticks(tick_marks, classes, rotation=45)\n",
        "    plt.yticks(tick_marks, classes)\n",
        "\n",
        "    fmt = '.2f' if normalize else 'd'\n",
        "    thresh = cm.max() / 2.\n",
        "    for i, j in itertools.product(range(cm.shape[0]), range(cm.shape[1])):\n",
        "        plt.text(j, i, format(cm[i, j], fmt),\n",
        "                 horizontalalignment=\"center\",\n",
        "                 color=\"white\" if cm[i, j] > thresh else \"black\")\n",
        "\n",
        "    plt.tight_layout()\n",
        "    plt.ylabel('True label')\n",
        "    plt.xlabel('Predicted label')"
      ],
      "execution_count": 0,
      "outputs": []
    },
    {
      "cell_type": "code",
      "metadata": {
        "id": "Po_q-gKOVPDw",
        "colab_type": "code",
        "outputId": "0afef909-2cff-43f4-cf70-fd60b861c9d0",
        "colab": {
          "base_uri": "https://localhost:8080/",
          "height": 809
        }
      },
      "source": [
        "from sklearn import metrics\n",
        "names = ['1','2','3','4','5']\n",
        "\n",
        "# Compute confusion matrix\n",
        "cnf_matrix = metrics.confusion_matrix(y_test, preds)\n",
        "np.set_printoptions(precision=2)\n",
        "\n",
        "# Plot non-normalized confusion matrix\n",
        "plt.figure()\n",
        "plot_confusion_matrix(cnf_matrix, classes=names,\n",
        "                      title='Confusion matrix, without normalization',cmap='ocean')\n",
        "\n",
        "# Plot normalized confusion matrix\n",
        "plt.figure()\n",
        "plot_confusion_matrix(cnf_matrix, classes=names, normalize=True,\n",
        "                      title='Normalized confusion matrix',cmap='tab20c')\n",
        "\n",
        "plt.show()"
      ],
      "execution_count": 43,
      "outputs": [
        {
          "output_type": "execute_result",
          "data": {
            "text/plain": [
              "<Figure size 432x288 with 0 Axes>"
            ]
          },
          "metadata": {
            "tags": []
          },
          "execution_count": 43
        },
        {
          "output_type": "stream",
          "text": [
            "Confusion matrix, without normalization\n",
            "[[ 1657   116    92    68   187]\n",
            " [  467   204   247   156   183]\n",
            " [  172   116   601   616   452]\n",
            " [   56    12   189  1483  3180]\n",
            " [   33     3    26   796 12099]]\n"
          ],
          "name": "stdout"
        },
        {
          "output_type": "execute_result",
          "data": {
            "text/plain": [
              "<Figure size 432x288 with 0 Axes>"
            ]
          },
          "metadata": {
            "tags": []
          },
          "execution_count": 43
        },
        {
          "output_type": "stream",
          "text": [
            "Normalized confusion matrix\n",
            "[[7.82e-01 5.47e-02 4.34e-02 3.21e-02 8.82e-02]\n",
            " [3.72e-01 1.62e-01 1.96e-01 1.24e-01 1.46e-01]\n",
            " [8.79e-02 5.93e-02 3.07e-01 3.15e-01 2.31e-01]\n",
            " [1.14e-02 2.44e-03 3.84e-02 3.01e-01 6.46e-01]\n",
            " [2.55e-03 2.32e-04 2.01e-03 6.14e-02 9.34e-01]]\n"
          ],
          "name": "stdout"
        },
        {
          "output_type": "display_data",
          "data": {
            "image/png": "[encoded data removed]",
            "text/plain": [
              "<Figure size 432x288 with 2 Axes>"
            ]
          },
          "metadata": {
            "tags": [],
            "needs_background": "light"
          }
        },
        {
          "output_type": "display_data",
          "data": {
            "image/png": "[encoded data removed]",
            "text/plain": [
              "<Figure size 432x288 with 2 Axes>"
            ]
          },
          "metadata": {
            "tags": [],
            "needs_background": "light"
          }
        }
      ]
    },
    {
      "cell_type": "markdown",
      "metadata": {
        "id": "iU2RLlL2VPD0",
        "colab_type": "text"
      },
      "source": [
        "# <span style=\"color:dodgerblue\"> Predicting  positive and negative sentiments </span>"
      ]
    },
    {
      "cell_type": "code",
      "metadata": {
        "id": "b81v-UbwVPD1",
        "colab_type": "code",
        "outputId": "0d7e68e2-df24-40ba-f30a-005d09d5c9cd",
        "colab": {
          "base_uri": "https://localhost:8080/",
          "height": 34
        }
      },
      "source": [
        "# making binary classes\n",
        "sentiments = []\n",
        "for star in stars[1]:\n",
        "    if star <= 3:\n",
        "        sentiments.append('n')\n",
        "    if star > 3:\n",
        "        sentiments.append('p')\n",
        "\n",
        "print(len(sentiments))        \n",
        "        \n",
        "## to see the effect without including 3, we need to undersample"
      ],
      "execution_count": 32,
      "outputs": [
        {
          "output_type": "stream",
          "text": [
            "154737\n"
          ],
          "name": "stdout"
        }
      ]
    },
    {
      "cell_type": "code",
      "metadata": {
        "id": "TAvWV-R3VPD3",
        "colab_type": "code",
        "outputId": "a879042b-aacf-44f7-c3a6-66ee314635b7",
        "colab": {
          "base_uri": "https://localhost:8080/",
          "height": 51
        }
      },
      "source": [
        "%%time\n",
        "\n",
        "X2_train, X2_test, y2_train, y2_test = train_test_split(vectors, sentiments, test_size=0.20, random_state=42)"
      ],
      "execution_count": 33,
      "outputs": [
        {
          "output_type": "stream",
          "text": [
            "CPU times: user 70.7 ms, sys: 12 ms, total: 82.6 ms\n",
            "Wall time: 85.8 ms\n"
          ],
          "name": "stdout"
        }
      ]
    },
    {
      "cell_type": "code",
      "metadata": {
        "id": "QkACfF0xVPD9",
        "colab_type": "code",
        "outputId": "d9254dae-b453-4ba5-ec3c-89181caffd3f",
        "colab": {
          "base_uri": "https://localhost:8080/",
          "height": 51
        }
      },
      "source": [
        "%%time\n",
        "\n",
        "classifier2 = LinearSVC()\n",
        "# train the classifier\n",
        "classifier2.fit(X2_train, y2_train)"
      ],
      "execution_count": 34,
      "outputs": [
        {
          "output_type": "stream",
          "text": [
            "CPU times: user 2.41 s, sys: 19.7 ms, total: 2.43 s\n",
            "Wall time: 2.45 s\n"
          ],
          "name": "stdout"
        }
      ]
    },
    {
      "cell_type": "code",
      "metadata": {
        "id": "wxnjBgp0VPEA",
        "colab_type": "code",
        "outputId": "1f381933-445e-4092-b021-66d2a02e2831",
        "colab": {
          "base_uri": "https://localhost:8080/",
          "height": 68
        }
      },
      "source": [
        "preds2 = classifier2.predict(X2_test)\n",
        "print(\"Actual Class:    \",end = \"\")\n",
        "print(y2_test[:10])\n",
        "print(\"\\nPredicted Class: \",end = \"\")\n",
        "print(list(preds2[:10]))"
      ],
      "execution_count": 35,
      "outputs": [
        {
          "output_type": "stream",
          "text": [
            "Actual Class:    ['p', 'p', 'n', 'p', 'n', 'p', 'p', 'p', 'p', 'n']\n",
            "\n",
            "Predicted Class: ['p', 'p', 'n', 'p', 'n', 'p', 'p', 'p', 'n', 'p']\n"
          ],
          "name": "stdout"
        }
      ]
    },
    {
      "cell_type": "markdown",
      "metadata": {
        "id": "ocorSqKPVPEE",
        "colab_type": "text"
      },
      "source": [
        "## Evaluating our Binary Classifier"
      ]
    },
    {
      "cell_type": "markdown",
      "metadata": {
        "id": "b7r9xaH_VPEF",
        "colab_type": "text"
      },
      "source": [
        "## <span style=\"color:orangered\"> Accuracy of the model </span>"
      ]
    },
    {
      "cell_type": "code",
      "metadata": {
        "id": "DUD3X68yVPEF",
        "colab_type": "code",
        "outputId": "c4134e47-d4ce-49c8-b7ad-0c36b22a99b3",
        "colab": {
          "base_uri": "https://localhost:8080/",
          "height": 34
        }
      },
      "source": [
        "print(accuracy_score(y2_test, preds2))"
      ],
      "execution_count": 36,
      "outputs": [
        {
          "output_type": "stream",
          "text": [
            "0.9262310973245445\n"
          ],
          "name": "stdout"
        }
      ]
    },
    {
      "cell_type": "markdown",
      "metadata": {
        "id": "sAVuXX7fVPEJ",
        "colab_type": "text"
      },
      "source": [
        "## <span style=\"color:orangered\"> Precision and Recall of the model</span>"
      ]
    },
    {
      "cell_type": "code",
      "metadata": {
        "id": "Kai-ewA6VPEJ",
        "colab_type": "code",
        "outputId": "df98fb5b-404b-447d-8106-bf805a203cb4",
        "colab": {
          "base_uri": "https://localhost:8080/",
          "height": 51
        }
      },
      "source": [
        "from sklearn.metrics import precision_score\n",
        "from sklearn.metrics import recall_score\n",
        "print ('Precision: ' + str(precision_score(y2_test, preds2, average='weighted')))\n",
        "print ('Recall: ' + str(recall_score(y2_test, preds2, average='weighted')))"
      ],
      "execution_count": 37,
      "outputs": [
        {
          "output_type": "stream",
          "text": [
            "Precision: 0.924863795989934\n",
            "Recall: 0.9262310973245445\n"
          ],
          "name": "stdout"
        }
      ]
    },
    {
      "cell_type": "markdown",
      "metadata": {
        "id": "XaepPkLEVPEM",
        "colab_type": "text"
      },
      "source": [
        "## <span style=\"color:orangered\"> Classification Report </span>"
      ]
    },
    {
      "cell_type": "code",
      "metadata": {
        "id": "U158x1AyVPEM",
        "colab_type": "code",
        "outputId": "14d363d1-2ac2-4287-8d49-cd2c9aed6a31",
        "colab": {
          "base_uri": "https://localhost:8080/",
          "height": 170
        }
      },
      "source": [
        "print(classification_report(y2_test, preds2))"
      ],
      "execution_count": 38,
      "outputs": [
        {
          "output_type": "stream",
          "text": [
            "              precision    recall  f1-score   support\n",
            "\n",
            "           n       0.89      0.77      0.83      7032\n",
            "           p       0.93      0.97      0.95     23916\n",
            "\n",
            "    accuracy                           0.93     30948\n",
            "   macro avg       0.91      0.87      0.89     30948\n",
            "weighted avg       0.92      0.93      0.92     30948\n",
            "\n"
          ],
          "name": "stdout"
        }
      ]
    },
    {
      "cell_type": "markdown",
      "metadata": {
        "id": "ocu6Zjn5VPEP",
        "colab_type": "text"
      },
      "source": [
        "## <span style=\"color:orangered\"> Plotting Confusion Metrics </span>"
      ]
    },
    {
      "cell_type": "code",
      "metadata": {
        "id": "OU1TIfSJVPEP",
        "colab_type": "code",
        "outputId": "7539039d-3290-4af4-f030-e97b9ea7df21",
        "colab": {
          "base_uri": "https://localhost:8080/",
          "height": 51
        }
      },
      "source": [
        "print(metrics.confusion_matrix(y2_test, preds2))"
      ],
      "execution_count": 39,
      "outputs": [
        {
          "output_type": "stream",
          "text": [
            "[[ 5415  1617]\n",
            " [  666 23250]]\n"
          ],
          "name": "stdout"
        }
      ]
    },
    {
      "cell_type": "code",
      "metadata": {
        "id": "9Pw9op36VPET",
        "colab_type": "code",
        "outputId": "2ca78973-7bda-412b-f327-6604e65af6e0",
        "colab": {
          "base_uri": "https://localhost:8080/",
          "height": 707
        }
      },
      "source": [
        "class_names = ['negative','positive']\n",
        "\n",
        "# Compute confusion matrix\n",
        "cnf_matrix = metrics.confusion_matrix(y2_test, preds2)\n",
        "np.set_printoptions(precision=2)\n",
        "\n",
        "# Plot non-normalized confusion matrix\n",
        "plt.figure()\n",
        "plot_confusion_matrix(cnf_matrix, classes=class_names,\n",
        "                      title='Confusion matrix without normalization',cmap='tab20c')\n",
        "\n",
        "# Plot normalized confusion matrix\n",
        "plt.figure()\n",
        "plot_confusion_matrix(cnf_matrix, classes=class_names, normalize=True,\n",
        "                      title='Normalized confusion matrix',cmap='tab20c')\n",
        "\n",
        "plt.show()"
      ],
      "execution_count": 45,
      "outputs": [
        {
          "output_type": "execute_result",
          "data": {
            "text/plain": [
              "<Figure size 432x288 with 0 Axes>"
            ]
          },
          "metadata": {
            "tags": []
          },
          "execution_count": 45
        },
        {
          "output_type": "stream",
          "text": [
            "Confusion matrix, without normalization\n",
            "[[ 5415  1617]\n",
            " [  666 23250]]\n"
          ],
          "name": "stdout"
        },
        {
          "output_type": "execute_result",
          "data": {
            "text/plain": [
              "<Figure size 432x288 with 0 Axes>"
            ]
          },
          "metadata": {
            "tags": []
          },
          "execution_count": 45
        },
        {
          "output_type": "stream",
          "text": [
            "Normalized confusion matrix\n",
            "[[0.77 0.23]\n",
            " [0.03 0.97]]\n"
          ],
          "name": "stdout"
        },
        {
          "output_type": "display_data",
          "data": {
            "image/png": "[encoded data removed]",
            "text/plain": [
              "<Figure size 432x288 with 2 Axes>"
            ]
          },
          "metadata": {
            "tags": [],
            "needs_background": "light"
          }
        },
        {
          "output_type": "display_data",
          "data": {
            "image/png": "[encoded data removed]",
            "text/plain": [
              "<Figure size 432x288 with 2 Axes>"
            ]
          },
          "metadata": {
            "tags": [],
            "needs_background": "light"
          }
        }
      ]
    }
  ]
}