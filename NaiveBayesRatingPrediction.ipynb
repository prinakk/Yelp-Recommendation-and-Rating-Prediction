{
  "nbformat": 4,
  "nbformat_minor": 0,
  "metadata": {
    "kernelspec": {
      "display_name": "Python 3",
      "language": "python",
      "name": "python3"
    },
    "language_info": {
      "codemirror_mode": {
        "name": "ipython",
        "version": 3
      },
      "file_extension": ".py",
      "mimetype": "text/x-python",
      "name": "python",
      "nbconvert_exporter": "python",
      "pygments_lexer": "ipython3",
      "version": "3.6.3"
    },
    "colab": {
      "name": "Naive_Bayes_Classifier_final.ipynb",
      "provenance": [],
      "collapsed_sections": [],
      "toc_visible": true
    },
    "accelerator": "GPU"
  },
  "cells": [
    {
      "cell_type": "markdown",
      "metadata": {
        "id": "4byp6grBVf90",
        "colab_type": "text"
      },
      "source": [
        "# **Predicting Rating of the Busniess Using Naive Bayes Classifier from reviews**"
      ]
    },
    {
      "cell_type": "markdown",
      "metadata": {
        "id": "OAjz81DKVf91",
        "colab_type": "text"
      },
      "source": [
        "## 5 Class Prediction of ratings\n",
        "\n",
        "\n",
        "1.   1 Star\n",
        "2.   2 Star\n",
        "3.   3 Star\n",
        "4.   4 Star\n",
        "5.   5 Star\n",
        "\n"
      ]
    },
    {
      "cell_type": "markdown",
      "metadata": {
        "id": "NwYnh6PIQuKP",
        "colab_type": "text"
      },
      "source": [
        "####Mount the Drive"
      ]
    },
    {
      "cell_type": "code",
      "metadata": {
        "id": "Yl-Bf5GvWrhy",
        "colab_type": "code",
        "outputId": "323d1d3a-6b93-41a7-8e90-7ed7305c2395",
        "colab": {
          "base_uri": "https://localhost:8080/",
          "height": 122
        }
      },
      "source": [
        "from google.colab import drive\n",
        "drive.mount('/content/drive')"
      ],
      "execution_count": 1,
      "outputs": [
        {
          "output_type": "stream",
          "text": [
            "Go to this URL in a browser: https://accounts.google.com/o/oauth2/auth?client_id=947318989803-6bn6qk8qdgf4n4g3pfee6491hc0brc4i.apps.googleusercontent.com&redirect_uri=urn%3aietf%3awg%3aoauth%3a2.0%3aoob&response_type=code&scope=email%20https%3a%2f%2fwww.googleapis.com%2fauth%2fdocs.test%20https%3a%2f%2fwww.googleapis.com%2fauth%2fdrive%20https%3a%2f%2fwww.googleapis.com%2fauth%2fdrive.photos.readonly%20https%3a%2f%2fwww.googleapis.com%2fauth%2fpeopleapi.readonly\n",
            "\n",
            "Enter your authorization code:\n",
            "··········\n",
            "Mounted at /content/drive\n"
          ],
          "name": "stdout"
        }
      ]
    },
    {
      "cell_type": "markdown",
      "metadata": {
        "id": "LXI48-7gROlO",
        "colab_type": "text"
      },
      "source": [
        "####Import the required libraries."
      ]
    },
    {
      "cell_type": "code",
      "metadata": {
        "id": "Y9C7brkFVf92",
        "colab_type": "code",
        "outputId": "b8456b4d-5216-4f4d-e665-7735f20684f3",
        "colab": {
          "base_uri": "https://localhost:8080/",
          "height": 68
        }
      },
      "source": [
        "%pylab inline\n",
        "import warnings\n",
        "warnings.filterwarnings('ignore')\n",
        "import os\n",
        "import nltk\n",
        "nltk.download('stopwords')\n",
        "warnings.filterwarnings('ignore')\n",
        "os.chdir('/content/drive/My Drive/YelpDataset')"
      ],
      "execution_count": 2,
      "outputs": [
        {
          "output_type": "stream",
          "text": [
            "Populating the interactive namespace from numpy and matplotlib\n",
            "[nltk_data] Downloading package stopwords to /root/nltk_data...\n",
            "[nltk_data]   Unzipping corpora/stopwords.zip.\n"
          ],
          "name": "stdout"
        }
      ]
    },
    {
      "cell_type": "code",
      "metadata": {
        "id": "-JL2jwKjVf9_",
        "colab_type": "code",
        "colab": {}
      },
      "source": [
        "from IPython.core.interactiveshell import InteractiveShell\n",
        "InteractiveShell.ast_node_interactivity = \"all\""
      ],
      "execution_count": 0,
      "outputs": []
    },
    {
      "cell_type": "code",
      "metadata": {
        "id": "chrc4edxVf-I",
        "colab_type": "code",
        "colab": {}
      },
      "source": [
        "import pandas as pd\n",
        "import numpy as np\n",
        "import matplotlib.pyplot as plt\n",
        "import nltk\n",
        "from nltk.corpus import stopwords"
      ],
      "execution_count": 0,
      "outputs": []
    },
    {
      "cell_type": "markdown",
      "metadata": {
        "id": "KSrwkTKlQ9IY",
        "colab_type": "text"
      },
      "source": [
        "#### Importing the reviews dataset and Creating X and Y for the classifier. X is the review text and Y is the rating"
      ]
    },
    {
      "cell_type": "code",
      "metadata": {
        "id": "c6H3A97nVf-M",
        "colab_type": "code",
        "colab": {}
      },
      "source": [
        "restaurant_reviews = pd.read_csv('reviews_restaurants_text.csv')"
      ],
      "execution_count": 0,
      "outputs": []
    },
    {
      "cell_type": "code",
      "metadata": {
        "id": "iD2x_12mVf-Q",
        "colab_type": "code",
        "colab": {}
      },
      "source": [
        "x = restaurant_reviews['text']\n",
        "y = restaurant_reviews['stars']"
      ],
      "execution_count": 0,
      "outputs": []
    },
    {
      "cell_type": "markdown",
      "metadata": {
        "id": "6X8YC6Hb5_79",
        "colab_type": "text"
      },
      "source": [
        "##Pre-processing"
      ]
    },
    {
      "cell_type": "code",
      "metadata": {
        "id": "NYpOe6OLVf-V",
        "colab_type": "code",
        "colab": {}
      },
      "source": [
        "# Text preprocessing\n",
        "import string\n",
        "def text_preprocessing(text):\n",
        "    no_punctuation = [ch for ch in text if ch not in string.punctuation]\n",
        "    no_punctuation = ''.join(no_punctuation)\n",
        "    return [w for w in no_punctuation.split() if w.lower() not in stopwords.words('english')]\n"
      ],
      "execution_count": 0,
      "outputs": []
    },
    {
      "cell_type": "markdown",
      "metadata": {
        "id": "TTzvpQe66QZU",
        "colab_type": "text"
      },
      "source": [
        "##Vectorization (Converting each review into a vector using bag-of-words approach)"
      ]
    },
    {
      "cell_type": "code",
      "metadata": {
        "id": "T3uA9xMWVf-Y",
        "colab_type": "code",
        "outputId": "9a22dc4f-5ab3-4a79-b310-bcd29a9aa018",
        "colab": {
          "base_uri": "https://localhost:8080/",
          "height": 51
        }
      },
      "source": [
        "%%time\n",
        "# Estimated time: 30 min\n",
        "\n",
        "from sklearn.feature_extraction.text import CountVectorizer\n",
        "vector = CountVectorizer(analyzer=text_preprocessing).fit(x)\n",
        "x = vector.transform(x)"
      ],
      "execution_count": 8,
      "outputs": [
        {
          "output_type": "stream",
          "text": [
            "CPU times: user 10min 26s, sys: 1min 10s, total: 11min 37s\n",
            "Wall time: 11min 37s\n"
          ],
          "name": "stdout"
        }
      ]
    },
    {
      "cell_type": "markdown",
      "metadata": {
        "id": "ztuavBOP6yaY",
        "colab_type": "text"
      },
      "source": [
        "#### Spitting data into training and test set and Building Multinomial Naive Bayes model to fit it to our training set"
      ]
    },
    {
      "cell_type": "code",
      "metadata": {
        "id": "0OIei-BBVf-d",
        "colab_type": "code",
        "outputId": "e13d4dde-b027-4658-cba8-19c69e2a6e1b",
        "colab": {
          "base_uri": "https://localhost:8080/",
          "height": 34
        }
      },
      "source": [
        "from sklearn.model_selection import train_test_split\n",
        "X_train, X_test, Y_train, Y_test = train_test_split(x, y, test_size=0.20, random_state=0, shuffle =False)\n",
        "\n",
        "from sklearn.naive_bayes import MultinomialNB\n",
        "classifier = MultinomialNB()\n",
        "classifier.fit(X_train, Y_train)"
      ],
      "execution_count": 9,
      "outputs": [
        {
          "output_type": "execute_result",
          "data": {
            "text/plain": [
              "MultinomialNB(alpha=1.0, class_prior=None, fit_prior=True)"
            ]
          },
          "metadata": {
            "tags": []
          },
          "execution_count": 9
        }
      ]
    },
    {
      "cell_type": "markdown",
      "metadata": {
        "id": "DShTewOORxLY",
        "colab_type": "text"
      },
      "source": [
        "####Predict the ratings from text"
      ]
    },
    {
      "cell_type": "code",
      "metadata": {
        "id": "YPeamlFhVf-i",
        "colab_type": "code",
        "outputId": "2ec250de-d066-403e-ff38-13baeafe4cb1",
        "colab": {
          "base_uri": "https://localhost:8080/",
          "height": 323
        }
      },
      "source": [
        "# Testing our model on the test set\n",
        "\n",
        "preds = classifier.predict(X_test)\n",
        "print(\"The Actual Ratings are:\",end = \"\")\n",
        "display(Y_test[:15])\n",
        "print(\"The Predicted Ratings are:\",end = \"\")\n",
        "print(preds[:15])"
      ],
      "execution_count": 10,
      "outputs": [
        {
          "output_type": "stream",
          "text": [
            "The Actual Ratings are:"
          ],
          "name": "stdout"
        },
        {
          "output_type": "display_data",
          "data": {
            "text/plain": [
              "123789    4\n",
              "123790    4\n",
              "123791    5\n",
              "123792    4\n",
              "123793    5\n",
              "123794    5\n",
              "123795    4\n",
              "123796    5\n",
              "123797    4\n",
              "123798    5\n",
              "123799    1\n",
              "123800    5\n",
              "123801    4\n",
              "123802    4\n",
              "123803    5\n",
              "Name: stars, dtype: int64"
            ]
          },
          "metadata": {
            "tags": []
          }
        },
        {
          "output_type": "stream",
          "text": [
            "The Predicted Ratings are:[5 5 4 5 5 5 5 5 5 5 1 5 5 5 5]\n"
          ],
          "name": "stdout"
        }
      ]
    },
    {
      "cell_type": "markdown",
      "metadata": {
        "id": "QwrGOJKjVf-m",
        "colab_type": "text"
      },
      "source": [
        "## Evaluating the model"
      ]
    },
    {
      "cell_type": "markdown",
      "metadata": {
        "id": "WHt946nBVf-n",
        "colab_type": "text"
      },
      "source": [
        "## <span style=\"color:orangered\"> Accuracy </span>"
      ]
    },
    {
      "cell_type": "code",
      "metadata": {
        "id": "fAl-plrEVf-n",
        "colab_type": "code",
        "outputId": "b149367b-bd6b-4fd3-d221-d65f72444a1a",
        "colab": {
          "base_uri": "https://localhost:8080/",
          "height": 34
        }
      },
      "source": [
        "# Accuracy of the model\n",
        "\n",
        "from sklearn.metrics import accuracy_score\n",
        "accuracy_score(Y_test, preds)"
      ],
      "execution_count": 11,
      "outputs": [
        {
          "output_type": "execute_result",
          "data": {
            "text/plain": [
              "0.6642109344707251"
            ]
          },
          "metadata": {
            "tags": []
          },
          "execution_count": 11
        }
      ]
    },
    {
      "cell_type": "markdown",
      "metadata": {
        "id": "tQhzCl0UVf-r",
        "colab_type": "text"
      },
      "source": [
        "## <span style=\"color:orangered\"> Precision and Recall of the model</span>"
      ]
    },
    {
      "cell_type": "code",
      "metadata": {
        "id": "rh6x-Z0tVf-s",
        "colab_type": "code",
        "outputId": "41f0df09-f977-4de3-dee1-68a69e07e071",
        "colab": {
          "base_uri": "https://localhost:8080/",
          "height": 51
        }
      },
      "source": [
        "from sklearn.metrics import precision_score\n",
        "from sklearn.metrics import recall_score\n",
        "print ('The Precision of the Model is:' + str(precision_score(Y_test, preds, average='weighted')))\n",
        "print ('The Recall of the Model is:' + str(recall_score(Y_test,preds, average='weighted')))"
      ],
      "execution_count": 12,
      "outputs": [
        {
          "output_type": "stream",
          "text": [
            "The Precision of the Model is:0.6249726431635203\n",
            "The Recall of the Model is:0.6642109344707251\n"
          ],
          "name": "stdout"
        }
      ]
    },
    {
      "cell_type": "markdown",
      "metadata": {
        "id": "IvKXF-omVf-w",
        "colab_type": "text"
      },
      "source": [
        "## <span style=\"color:orangered\"> Classification Report </span>"
      ]
    },
    {
      "cell_type": "code",
      "metadata": {
        "id": "NNj5Qu1uVf-x",
        "colab_type": "code",
        "outputId": "1b5b72d1-466b-4172-cab1-9703fe616eaf",
        "colab": {
          "base_uri": "https://localhost:8080/",
          "height": 340
        }
      },
      "source": [
        "# Evaluating the model\n",
        "from sklearn.metrics import confusion_matrix, classification_report\n",
        "print(confusion_matrix(Y_test, preds))\n",
        "print('\\n')\n",
        "print(classification_report(Y_test, preds))"
      ],
      "execution_count": 13,
      "outputs": [
        {
          "output_type": "stream",
          "text": [
            "[[ 2111    60   193   203   246]\n",
            " [  572    76   389   422   232]\n",
            " [  229    39   623  1237   494]\n",
            " [  116    19   168  2420  3865]\n",
            " [  151    38    70  1649 15326]]\n",
            "\n",
            "\n",
            "              precision    recall  f1-score   support\n",
            "\n",
            "           1       0.66      0.75      0.70      2813\n",
            "           2       0.33      0.04      0.08      1691\n",
            "           3       0.43      0.24      0.31      2622\n",
            "           4       0.41      0.37      0.39      6588\n",
            "           5       0.76      0.89      0.82     17234\n",
            "\n",
            "    accuracy                           0.66     30948\n",
            "   macro avg       0.52      0.46      0.46     30948\n",
            "weighted avg       0.62      0.66      0.63     30948\n",
            "\n"
          ],
          "name": "stdout"
        }
      ]
    },
    {
      "cell_type": "markdown",
      "metadata": {
        "id": "kzy18T4LVf-2",
        "colab_type": "text"
      },
      "source": [
        "## <span style=\"color:orangered\">Confusion Matrix of the model</span>"
      ]
    },
    {
      "cell_type": "markdown",
      "metadata": {
        "id": "FFoofbhI7X55",
        "colab_type": "text"
      },
      "source": [
        "####This function prints and plots the confusion matrix.\n",
        "Normalization can be applied by setting `normalize=True`."
      ]
    },
    {
      "cell_type": "code",
      "metadata": {
        "id": "CQY0CuHXVf-3",
        "colab_type": "code",
        "colab": {}
      },
      "source": [
        "# citation: http://scikit-learn.org/stable/auto_examples/model_selection/plot_confusion_matrix.html#sphx-glr-auto-examples-model-selection-plot-confusion-matrix-py\n",
        "import itertools  \n",
        "def plot_confusion_matrix(cm, classes,\n",
        "                          normalize=False,\n",
        "                          title='Confusion matrix',\n",
        "                          cmap=plt.cm.Blues):\n",
        "  \n",
        "    if normalize:\n",
        "        cm = cm.astype('float') / cm.sum(axis=1)[:, np.newaxis]\n",
        "        print(\"The normalised confusion matrix of the model obtained is:\")\n",
        "    else:\n",
        "        print('The confusion matrix obtained without normalisation is')\n",
        "\n",
        "    print(cm)\n",
        "\n",
        "    plt.imshow(cm, interpolation='nearest', cmap=cmap)\n",
        "    plt.title(title)\n",
        "    plt.colorbar()\n",
        "    tick_marks = np.arange(len(classes))\n",
        "    plt.xticks(tick_marks, classes, rotation=45)\n",
        "    plt.yticks(tick_marks, classes)\n",
        "\n",
        "    fmt = '.2f' if normalize else 'd'\n",
        "    thresh = cm.max() / 2.\n",
        "    for i, j in itertools.product(range(cm.shape[0]), range(cm.shape[1])):\n",
        "        plt.text(j, i, format(cm[i, j], fmt),\n",
        "                 horizontalalignment=\"center\",\n",
        "                 color=\"white\" if cm[i, j] > thresh else \"black\")\n",
        "\n",
        "    plt.tight_layout()\n",
        "    plt.ylabel('True label')\n",
        "    plt.xlabel('Predicted label')"
      ],
      "execution_count": 0,
      "outputs": []
    },
    {
      "cell_type": "code",
      "metadata": {
        "id": "55f4deexVf-7",
        "colab_type": "code",
        "outputId": "c39f6f4e-8678-401d-ab8e-44b15f0f3a03",
        "colab": {
          "base_uri": "https://localhost:8080/",
          "height": 809
        }
      },
      "source": [
        "from sklearn import metrics\n",
        "class_names = ['1','2','3','4','5']\n",
        "\n",
        "# Compute confusion matrix\n",
        "cnf_matrix = metrics.confusion_matrix(Y_test, preds\n",
        "                                     )\n",
        "np.set_printoptions(precision=2)\n",
        "\n",
        "# Plot non-normalized confusion matrix\n",
        "plt.figure()\n",
        "plot_confusion_matrix(cnf_matrix, classes=class_names,\n",
        "                      title='Confusion matrix without normalization',cmap='ocean')\n",
        "\n",
        "# Plot normalized confusion matrix\n",
        "plt.figure()\n",
        "plot_confusion_matrix(cnf_matrix, classes=class_names, normalize=True,\n",
        "                      title='Normalized confusion matrix',cmap='ocean')\n",
        "\n",
        "plt.show()"
      ],
      "execution_count": 20,
      "outputs": [
        {
          "output_type": "execute_result",
          "data": {
            "text/plain": [
              "<Figure size 432x288 with 0 Axes>"
            ]
          },
          "metadata": {
            "tags": []
          },
          "execution_count": 20
        },
        {
          "output_type": "stream",
          "text": [
            "The congusion matrix obtained without normalisation is\n",
            "[[ 2111    60   193   203   246]\n",
            " [  572    76   389   422   232]\n",
            " [  229    39   623  1237   494]\n",
            " [  116    19   168  2420  3865]\n",
            " [  151    38    70  1649 15326]]\n"
          ],
          "name": "stdout"
        },
        {
          "output_type": "execute_result",
          "data": {
            "text/plain": [
              "<Figure size 432x288 with 0 Axes>"
            ]
          },
          "metadata": {
            "tags": []
          },
          "execution_count": 20
        },
        {
          "output_type": "stream",
          "text": [
            "The normalised confusion matrix of the model obtained is:\n",
            "[[0.75 0.02 0.07 0.07 0.09]\n",
            " [0.34 0.04 0.23 0.25 0.14]\n",
            " [0.09 0.01 0.24 0.47 0.19]\n",
            " [0.02 0.   0.03 0.37 0.59]\n",
            " [0.01 0.   0.   0.1  0.89]]\n"
          ],
          "name": "stdout"
        },
        {
          "output_type": "display_data",
          "data": {
            "image/png": "[encoded data removed]",
            "text/plain": [
              "<Figure size 432x288 with 2 Axes>"
            ]
          },
          "metadata": {
            "tags": [],
            "needs_background": "light"
          }
        },
        {
          "output_type": "display_data",
          "data": {
            "image/png": "[encoded data removed]",
            "text/plain": [
              "<Figure size 432x288 with 2 Axes>"
            ]
          },
          "metadata": {
            "tags": [],
            "needs_background": "light"
          }
        }
      ]
    },
    {
      "cell_type": "markdown",
      "metadata": {
        "id": "4Ux00auqVf-_",
        "colab_type": "text"
      },
      "source": [
        "## 2 Class Prediction of ratings\n",
        "\n",
        "\n",
        "1.   1 Star\n",
        "2.   5 Star"
      ]
    },
    {
      "cell_type": "markdown",
      "metadata": {
        "id": "ufaC9zZGTyD2",
        "colab_type": "text"
      },
      "source": [
        "####Importing and balancing the dataset"
      ]
    },
    {
      "cell_type": "code",
      "metadata": {
        "id": "cjbkkYQYVf-_",
        "colab_type": "code",
        "colab": {}
      },
      "source": [
        "# Importing the datasets\n",
        "reviews = pd.read_csv('reviews_restaurants_text.csv')\n",
        "reviews['text'] = reviews['text'].str[2:-2]\n",
        "\n",
        "# Reducing the dataset to 2 classes i.e 1 and 5 star rating\n",
        "reviews['stars'][reviews.stars == 3] = 1\n",
        "reviews['stars'][reviews.stars == 2] = 1\n",
        "reviews['stars'][reviews.stars == 4] = 5\n",
        "\n",
        "#Undersampling of the dataset to get a balanced dataset\n",
        "review1 = reviews[reviews['stars'] == 1]\n",
        "review5 = reviews[reviews['stars'] == 5][0:34062]\n",
        "frames = [review1, review5]\n",
        "reviews = pd.concat(frames)"
      ],
      "execution_count": 0,
      "outputs": []
    },
    {
      "cell_type": "code",
      "metadata": {
        "id": "iLPS9Ih3Vf_E",
        "colab_type": "code",
        "colab": {}
      },
      "source": [
        "# Creating X and Y for the classifier. X is the review text and Y is the rating\n",
        "x2 = reviews['text']\n",
        "y2 = reviews['stars']"
      ],
      "execution_count": 0,
      "outputs": []
    },
    {
      "cell_type": "markdown",
      "metadata": {
        "id": "SWI5izCmT_nA",
        "colab_type": "text"
      },
      "source": [
        "####Vectorization and data splitting"
      ]
    },
    {
      "cell_type": "code",
      "metadata": {
        "id": "hVROGmNuVf_O",
        "colab_type": "code",
        "colab": {}
      },
      "source": [
        "# Converting each review into a vector using bag-of-words approach\n",
        "\n",
        "from sklearn.feature_extraction.text import CountVectorizer\n",
        "vector2 = CountVectorizer(analyzer=text_preprocessing).fit(x2)\n",
        "x2 = vector.transform(x2)"
      ],
      "execution_count": 0,
      "outputs": []
    },
    {
      "cell_type": "code",
      "metadata": {
        "id": "BKDpu9KMVf_S",
        "colab_type": "code",
        "colab": {}
      },
      "source": [
        "# Spitting data into training and test set\n",
        "from sklearn.model_selection import train_test_split\n",
        "X2_train, X2_test, Y2_train, Y2_test = train_test_split(x2, y2, test_size=0.20, random_state=0)"
      ],
      "execution_count": 0,
      "outputs": []
    },
    {
      "cell_type": "markdown",
      "metadata": {
        "id": "O10GGi0RUWSK",
        "colab_type": "text"
      },
      "source": [
        "####Building and testing the model"
      ]
    },
    {
      "cell_type": "code",
      "metadata": {
        "id": "xZQOasqVVf_X",
        "colab_type": "code",
        "outputId": "704afced-7c65-4182-f088-1fd133906b92",
        "colab": {
          "base_uri": "https://localhost:8080/",
          "height": 34
        }
      },
      "source": [
        "# Building Multinomial Naive Bayes modle and fit it to our training set\n",
        "from sklearn.naive_bayes import MultinomialNB\n",
        "classifier2 = MultinomialNB()\n",
        "classifier2.fit(X2_train, Y2_train)"
      ],
      "execution_count": 26,
      "outputs": [
        {
          "output_type": "execute_result",
          "data": {
            "text/plain": [
              "MultinomialNB(alpha=1.0, class_prior=None, fit_prior=True)"
            ]
          },
          "metadata": {
            "tags": []
          },
          "execution_count": 26
        }
      ]
    },
    {
      "cell_type": "code",
      "metadata": {
        "id": "fLuSa6-kVf_d",
        "colab_type": "code",
        "colab": {}
      },
      "source": [
        "# Testing our model on the test set\n",
        "Y2_pred = classifier2.predict(X2_test)"
      ],
      "execution_count": 0,
      "outputs": []
    },
    {
      "cell_type": "markdown",
      "metadata": {
        "id": "YK8U6400Vf_h",
        "colab_type": "text"
      },
      "source": [
        "## <span style=\"color:orangered\"> Classification Report </span>"
      ]
    },
    {
      "cell_type": "code",
      "metadata": {
        "id": "W0AmfMf7Vf_h",
        "colab_type": "code",
        "outputId": "83c198c3-9e1e-4a1b-807a-211f7b52a13f",
        "colab": {
          "base_uri": "https://localhost:8080/",
          "height": 238
        }
      },
      "source": [
        "# Evaluating the model\n",
        "from sklearn.metrics import confusion_matrix, classification_report\n",
        "print(confusion_matrix(Y2_test, Y2_pred))\n",
        "print('\\n')\n",
        "print(classification_report(Y2_test, Y2_pred))"
      ],
      "execution_count": 28,
      "outputs": [
        {
          "output_type": "stream",
          "text": [
            "[[6232  821]\n",
            " [ 815 6112]]\n",
            "\n",
            "\n",
            "              precision    recall  f1-score   support\n",
            "\n",
            "           1       0.88      0.88      0.88      7053\n",
            "           5       0.88      0.88      0.88      6927\n",
            "\n",
            "    accuracy                           0.88     13980\n",
            "   macro avg       0.88      0.88      0.88     13980\n",
            "weighted avg       0.88      0.88      0.88     13980\n",
            "\n"
          ],
          "name": "stdout"
        }
      ]
    },
    {
      "cell_type": "markdown",
      "metadata": {
        "id": "6IRuOuPCVf_l",
        "colab_type": "text"
      },
      "source": [
        "## <span style=\"color:orangered\"> Accuracy of the model </span>"
      ]
    },
    {
      "cell_type": "code",
      "metadata": {
        "id": "K3qVxrQaVf_l",
        "colab_type": "code",
        "outputId": "c9dfd26b-728b-4593-cfc9-d738e242110c",
        "colab": {
          "base_uri": "https://localhost:8080/",
          "height": 34
        }
      },
      "source": [
        "from sklearn.metrics import accuracy_score\n",
        "accuracy_score(Y2_test, Y2_pred)"
      ],
      "execution_count": 29,
      "outputs": [
        {
          "output_type": "execute_result",
          "data": {
            "text/plain": [
              "0.8829756795422031"
            ]
          },
          "metadata": {
            "tags": []
          },
          "execution_count": 29
        }
      ]
    },
    {
      "cell_type": "markdown",
      "metadata": {
        "id": "S480SxnAVf_-",
        "colab_type": "text"
      },
      "source": [
        "## <span style=\"color:orangered\"> Precision and Recall of the model</span>"
      ]
    },
    {
      "cell_type": "code",
      "metadata": {
        "id": "jgUf1iFfVgAF",
        "colab_type": "code",
        "outputId": "ca917368-bc73-417c-ab0b-56f144d6a8c6",
        "colab": {
          "base_uri": "https://localhost:8080/",
          "height": 51
        }
      },
      "source": [
        "from sklearn.metrics import precision_score\n",
        "from sklearn.metrics import recall_score\n",
        "print ('The Precision of the Model is:' + str(precision_score(Y2_test, Y2_pred, average='weighted')))\n",
        "print ('The Recall of the Model is:' + str(recall_score(Y2_test, Y2_pred, average='weighted')))"
      ],
      "execution_count": 30,
      "outputs": [
        {
          "output_type": "stream",
          "text": [
            "The Precision of the Model is:0.8829768671405934\n",
            "The Recall of the Model is:0.8829756795422031\n"
          ],
          "name": "stdout"
        }
      ]
    },
    {
      "cell_type": "markdown",
      "metadata": {
        "id": "B6heJ7dUVgAP",
        "colab_type": "text"
      },
      "source": [
        "## <span style=\"color:orangered\"> Confusion Matrix of the model </font>"
      ]
    },
    {
      "cell_type": "code",
      "metadata": {
        "id": "1h-uK_nwVgAQ",
        "colab_type": "code",
        "outputId": "a14c5bf0-ea3f-418c-fb15-0c52f6fd94ba",
        "colab": {
          "base_uri": "https://localhost:8080/",
          "height": 707
        }
      },
      "source": [
        "class_names = ['Negative','Positive']\n",
        "\n",
        "# Compute confusion matrix\n",
        "cnf_matrix = metrics.confusion_matrix(Y2_test, Y2_pred)\n",
        "np.set_printoptions(precision=2)\n",
        "\n",
        "# Plot non-normalized confusion matrix\n",
        "plt.figure()\n",
        "plot_confusion_matrix(cnf_matrix, classes =class_names, title='Confusion matrix, without normalization',cmap='tab20c')\n",
        "\n",
        "# Plot normalized confusion matrix\n",
        "plt.figure()\n",
        "plot_confusion_matrix(cnf_matrix, classes =class_names, normalize=True,title='Normalized confusion matrix',cmap='tab20c')\n",
        "\n",
        "plt.show()"
      ],
      "execution_count": 32,
      "outputs": [
        {
          "output_type": "execute_result",
          "data": {
            "text/plain": [
              "<Figure size 432x288 with 0 Axes>"
            ]
          },
          "metadata": {
            "tags": []
          },
          "execution_count": 32
        },
        {
          "output_type": "stream",
          "text": [
            "The congusion matrix obtained without normalisation is\n",
            "[[6232  821]\n",
            " [ 815 6112]]\n"
          ],
          "name": "stdout"
        },
        {
          "output_type": "execute_result",
          "data": {
            "text/plain": [
              "<Figure size 432x288 with 0 Axes>"
            ]
          },
          "metadata": {
            "tags": []
          },
          "execution_count": 32
        },
        {
          "output_type": "stream",
          "text": [
            "The normalised confusion matrix of the model obtained is:\n",
            "[[0.88 0.12]\n",
            " [0.12 0.88]]\n"
          ],
          "name": "stdout"
        },
        {
          "output_type": "display_data",
          "data": {
            "image/png": "[encoded data removed]",
            "text/plain": [
              "<Figure size 432x288 with 2 Axes>"
            ]
          },
          "metadata": {
            "tags": [],
            "needs_background": "light"
          }
        },
        {
          "output_type": "display_data",
          "data": {
            "image/png": "[encoded data removed]",
            "text/plain": [
              "<Figure size 432x288 with 2 Axes>"
            ]
          },
          "metadata": {
            "tags": [],
            "needs_background": "light"
          }
        }
      ]
    }
  ]
}